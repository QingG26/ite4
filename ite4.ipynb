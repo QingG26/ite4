{
 "cells": [
  {
   "cell_type": "code",
   "execution_count": 1,
   "id": "e9facff0",
   "metadata": {},
   "outputs": [
    {
     "name": "stderr",
     "output_type": "stream",
     "text": [
      "WARNING: An illegal reflective access operation has occurred\n",
      "WARNING: Illegal reflective access by org.apache.spark.unsafe.Platform (file:/home/ubuntu/spark-3.2.1-bin-hadoop2.7/jars/spark-unsafe_2.12-3.2.1.jar) to constructor java.nio.DirectByteBuffer(long,int)\n",
      "WARNING: Please consider reporting this to the maintainers of org.apache.spark.unsafe.Platform\n",
      "WARNING: Use --illegal-access=warn to enable warnings of further illegal reflective access operations\n",
      "WARNING: All illegal access operations will be denied in a future release\n",
      "Using Spark's default log4j profile: org/apache/spark/log4j-defaults.properties\n",
      "Setting default log level to \"WARN\".\n",
      "To adjust logging level use sc.setLogLevel(newLevel). For SparkR, use setLogLevel(newLevel).\n",
      "23/10/05 07:10:32 WARN NativeCodeLoader: Unable to load native-hadoop library for your platform... using builtin-java classes where applicable\n"
     ]
    }
   ],
   "source": [
    "import findspark\n",
    "findspark.init('/home/ubuntu/spark-3.2.1-bin-hadoop2.7')\n",
    "import pyspark\n",
    "from pyspark.sql import SparkSession\n",
    "spark = SparkSession.builder.appName('ite4').getOrCreate()"
   ]
  },
  {
   "cell_type": "code",
   "execution_count": 2,
   "id": "31aaf8ef",
   "metadata": {},
   "outputs": [
    {
     "name": "stderr",
     "output_type": "stream",
     "text": [
      "\r",
      "[Stage 1:=============================>                             (1 + 1) / 2]\r"
     ]
    },
    {
     "name": "stdout",
     "output_type": "stream",
     "text": [
      "root\n",
      " |-- index: integer (nullable = true)\n",
      " |-- Entity: string (nullable = true)\n",
      " |-- Code: string (nullable = true)\n",
      " |-- Year: string (nullable = true)\n",
      " |-- Schizophrenia (%): string (nullable = true)\n",
      " |-- Bipolar disorder (%): string (nullable = true)\n",
      " |-- Eating disorders (%): string (nullable = true)\n",
      " |-- Anxiety disorders (%): double (nullable = true)\n",
      " |-- Drug use disorders (%): double (nullable = true)\n",
      " |-- Depression (%): double (nullable = true)\n",
      " |-- Alcohol use disorders (%): double (nullable = true)\n",
      "\n"
     ]
    },
    {
     "name": "stderr",
     "output_type": "stream",
     "text": [
      "\r",
      "                                                                                \r"
     ]
    }
   ],
   "source": [
    "disorder = spark.read.csv('disorder.csv', inferSchema=True, header=True)\n",
    "disorder.printSchema()"
   ]
  },
  {
   "cell_type": "code",
   "execution_count": 3,
   "id": "080f4926",
   "metadata": {},
   "outputs": [
    {
     "name": "stdout",
     "output_type": "stream",
     "text": [
      "root\n",
      " |-- country: string (nullable = true)\n",
      " |-- date: integer (nullable = true)\n",
      " |-- GNP per Capita: double (nullable = true)\n",
      " |-- Inflation: double (nullable = true)\n",
      " |-- Industry: double (nullable = true)\n",
      " |-- life_expectancy: double (nullable = true)\n",
      " |-- Total_Fertility_Rate: double (nullable = true)\n",
      " |-- Population: double (nullable = true)\n",
      " |-- Migration: double (nullable = true)\n",
      " |-- Political_stability: double (nullable = true)\n",
      " |-- c_codes: string (nullable = true)\n",
      "\n"
     ]
    }
   ],
   "source": [
    "demo = spark.read.csv('demographic.csv', inferSchema=True, header=True)\n",
    "demo.printSchema()"
   ]
  },
  {
   "cell_type": "code",
   "execution_count": 4,
   "id": "b7ae1ea7",
   "metadata": {},
   "outputs": [
    {
     "name": "stdout",
     "output_type": "stream",
     "text": [
      "root\n",
      " |-- Country Name: string (nullable = true)\n",
      " |-- Regional Indicator: string (nullable = true)\n",
      " |-- Year: integer (nullable = true)\n",
      " |-- Life Ladder: double (nullable = true)\n",
      " |-- Log GDP Per Capita: double (nullable = true)\n",
      " |-- Social Support: double (nullable = true)\n",
      " |-- Healthy Life Expectancy At Birth: double (nullable = true)\n",
      " |-- Freedom To Make Life Choices: double (nullable = true)\n",
      " |-- Generosity: double (nullable = true)\n",
      " |-- Perceptions Of Corruption: double (nullable = true)\n",
      " |-- Positive Affect: double (nullable = true)\n",
      " |-- Negative Affect: double (nullable = true)\n",
      " |-- Confidence In National Government: double (nullable = true)\n",
      "\n"
     ]
    }
   ],
   "source": [
    "happy = spark.read.csv('happiness.csv', inferSchema=True, header=True)\n",
    "happy.printSchema()"
   ]
  },
  {
   "cell_type": "code",
   "execution_count": 11,
   "id": "0b2209f2",
   "metadata": {},
   "outputs": [
    {
     "name": "stderr",
     "output_type": "stream",
     "text": [
      "\r",
      "[Stage 13:=============================>                            (1 + 1) / 2]\r"
     ]
    },
    {
     "name": "stdout",
     "output_type": "stream",
     "text": [
      "+-------+------------------+-----------+------+------------------+--------------------+--------------------+--------------------+---------------------+----------------------+------------------+-------------------------+\n",
      "|summary|             index|     Entity|  Code|              Year|   Schizophrenia (%)|Bipolar disorder (%)|Eating disorders (%)|Anxiety disorders (%)|Drug use disorders (%)|    Depression (%)|Alcohol use disorders (%)|\n",
      "+-------+------------------+-----------+------+------------------+--------------------+--------------------+--------------------+---------------------+----------------------+------------------+-------------------------+\n",
      "|  count|            108553|     108553|103141|            108553|               25875|               19406|              100236|                 6468|                  6468|              6468|                     6468|\n",
      "|   mean|           54276.0|       null|  null|1923.9978415275343|  1101844.3786920486|  1118.3980735172652|2.7903132480538636E7|    3.989921290661714|    0.8622780476190429|3.4976535859616544|       1.5858214205318488|\n",
      "| stddev|31336.696222905608|       null|  null| 88.58329364119412|   8878369.417451045|  1617.8902918889498|2.4489244565512452E8|   1.1675262490327298|   0.46067884391002767|0.6558588765781542|       0.8602834093669828|\n",
      "|    min|                 0|Afghanistan|   ABW|                 0|            0.146902|            0.314535|            0.073908|             2.023393|               0.38365|          2.139903|                  0.44694|\n",
      "|    max|            108552|   Zimbabwe|   ZWE|              Year|Suicide rate (dea...|Prevalence in fem...|          Population|              8.96733|              3.452476|          6.602754|                 5.474668|\n",
      "+-------+------------------+-----------+------+------------------+--------------------+--------------------+--------------------+---------------------+----------------------+------------------+-------------------------+\n",
      "\n"
     ]
    },
    {
     "name": "stderr",
     "output_type": "stream",
     "text": [
      "\r",
      "                                                                                \r"
     ]
    }
   ],
   "source": [
    "disorder.describe().show()"
   ]
  },
  {
   "cell_type": "code",
   "execution_count": 12,
   "id": "84ef8105",
   "metadata": {},
   "outputs": [
    {
     "name": "stderr",
     "output_type": "stream",
     "text": [
      "\r",
      "[Stage 16:>                                                         (0 + 1) / 1]\r"
     ]
    },
    {
     "name": "stdout",
     "output_type": "stream",
     "text": [
      "+-------+-----------+------------------+-----------------+------------------+--------------------+------------------+--------------------+--------------------+-----------------+-------------------+-------+\n",
      "|summary|    country|              date|   GNP per Capita|         Inflation|            Industry|   life_expectancy|Total_Fertility_Rate|          Population|        Migration|Political_stability|c_codes|\n",
      "+-------+-----------+------------------+-----------------+------------------+--------------------+------------------+--------------------+--------------------+-----------------+-------------------+-------+\n",
      "|  count|      10734|             10734|             6967|              7653|                1907|              9223|                9239|               10343|             1914|               3237|  10291|\n",
      "|   mean|       null|1989.2374697223775|7773.675900674609|29.687432789918226| 2.13422294584824E11| 63.61896875927687|   4.091559254248293| 2.621848498888137E7|1566.175026123302| 36.084447203243755|   null|\n",
      "| stddev|       null|17.020169579704802|14814.97576196037| 336.8182394019282|5.368412126500965E11|11.685864578659716|  2.0331201877073175|1.0969125160084073E8|542349.9642429159|   23.9925027498021|   null|\n",
      "|    min|AFGHANISTAN|              1960|             40.0| -98.7038313429157|-2.20317360359605E11|            18.907|               1.085|              4433.0|       -3570954.0|                0.0|    ABW|\n",
      "|    max|   ZIMBABWE|              2018|         186080.0|15444.384137371899|   5.082271149845E12| 85.41707317073171|               8.462|          1.386395E9|        8612074.0|           97.14286|    ZWE|\n",
      "+-------+-----------+------------------+-----------------+------------------+--------------------+------------------+--------------------+--------------------+-----------------+-------------------+-------+\n",
      "\n"
     ]
    },
    {
     "name": "stderr",
     "output_type": "stream",
     "text": [
      "\r",
      "                                                                                \r"
     ]
    }
   ],
   "source": [
    "demo.describe().show()"
   ]
  },
  {
   "cell_type": "code",
   "execution_count": 20,
   "id": "23afa7c1",
   "metadata": {},
   "outputs": [
    {
     "data": {
      "text/plain": [
       "276"
      ]
     },
     "execution_count": 20,
     "metadata": {},
     "output_type": "execute_result"
    }
   ],
   "source": [
    "disorder.select('Entity').distinct().count()"
   ]
  },
  {
   "cell_type": "code",
   "execution_count": 21,
   "id": "b5aa7715",
   "metadata": {},
   "outputs": [
    {
     "data": {
      "text/plain": [
       "187"
      ]
     },
     "execution_count": 21,
     "metadata": {},
     "output_type": "execute_result"
    }
   ],
   "source": [
    "demo.select('country').distinct().count()"
   ]
  },
  {
   "cell_type": "code",
   "execution_count": 22,
   "id": "be710558",
   "metadata": {},
   "outputs": [
    {
     "data": {
      "text/plain": [
       "165"
      ]
     },
     "execution_count": 22,
     "metadata": {},
     "output_type": "execute_result"
    }
   ],
   "source": [
    "happy.select('Country Name').distinct().count()"
   ]
  },
  {
   "cell_type": "code",
   "execution_count": 24,
   "id": "e6feaf28",
   "metadata": {},
   "outputs": [
    {
     "data": {
      "text/plain": [
       "259"
      ]
     },
     "execution_count": 24,
     "metadata": {},
     "output_type": "execute_result"
    }
   ],
   "source": [
    "disorder.select('Year').distinct().count()"
   ]
  },
  {
   "cell_type": "code",
   "execution_count": 25,
   "id": "0e4095bb",
   "metadata": {},
   "outputs": [
    {
     "name": "stdout",
     "output_type": "stream",
     "text": [
      "+-------+------------------+\n",
      "|summary|              Year|\n",
      "+-------+------------------+\n",
      "|  count|            108553|\n",
      "|   mean|1923.9978415275343|\n",
      "| stddev| 88.58329364119412|\n",
      "|    min|                 0|\n",
      "|    max|              Year|\n",
      "+-------+------------------+\n",
      "\n"
     ]
    }
   ],
   "source": [
    "disorder.select('Year').describe().show()"
   ]
  },
  {
   "cell_type": "code",
   "execution_count": 26,
   "id": "8d05a9f5",
   "metadata": {},
   "outputs": [
    {
     "data": {
      "text/plain": [
       "59"
      ]
     },
     "execution_count": 26,
     "metadata": {},
     "output_type": "execute_result"
    }
   ],
   "source": [
    "demo.select('date').distinct().count()"
   ]
  },
  {
   "cell_type": "code",
   "execution_count": 27,
   "id": "7dceea2c",
   "metadata": {},
   "outputs": [
    {
     "name": "stdout",
     "output_type": "stream",
     "text": [
      "+-------+------------------+\n",
      "|summary|              date|\n",
      "+-------+------------------+\n",
      "|  count|             10734|\n",
      "|   mean|1989.2374697223775|\n",
      "| stddev|17.020169579704802|\n",
      "|    min|              1960|\n",
      "|    max|              2018|\n",
      "+-------+------------------+\n",
      "\n"
     ]
    }
   ],
   "source": [
    "demo.select('date').describe().show()"
   ]
  },
  {
   "cell_type": "code",
   "execution_count": 28,
   "id": "59a0d07b",
   "metadata": {},
   "outputs": [
    {
     "data": {
      "text/plain": [
       "18"
      ]
     },
     "execution_count": 28,
     "metadata": {},
     "output_type": "execute_result"
    }
   ],
   "source": [
    "happy.select('Year').distinct().count()"
   ]
  },
  {
   "cell_type": "code",
   "execution_count": 29,
   "id": "24390af6",
   "metadata": {},
   "outputs": [
    {
     "name": "stdout",
     "output_type": "stream",
     "text": [
      "+-------+------------------+\n",
      "|summary|              Year|\n",
      "+-------+------------------+\n",
      "|  count|              2199|\n",
      "|   mean|2014.1614370168259|\n",
      "| stddev| 4.718735519608616|\n",
      "|    min|              2005|\n",
      "|    max|              2022|\n",
      "+-------+------------------+\n",
      "\n"
     ]
    }
   ],
   "source": [
    "happy.select('Year').describe().show()"
   ]
  },
  {
   "cell_type": "code",
   "execution_count": 30,
   "id": "d39eae61",
   "metadata": {},
   "outputs": [
    {
     "name": "stdout",
     "output_type": "stream",
     "text": [
      "root\n",
      " |-- index: integer (nullable = true)\n",
      " |-- Entity: string (nullable = true)\n",
      " |-- Code: string (nullable = true)\n",
      " |-- Year: string (nullable = true)\n",
      " |-- Schizophrenia (%): string (nullable = true)\n",
      " |-- Bipolar disorder (%): string (nullable = true)\n",
      " |-- Eating disorders (%): string (nullable = true)\n",
      " |-- Anxiety disorders (%): double (nullable = true)\n",
      " |-- Drug use disorders (%): double (nullable = true)\n",
      " |-- Depression (%): double (nullable = true)\n",
      " |-- Alcohol use disorders (%): double (nullable = true)\n",
      "\n"
     ]
    }
   ],
   "source": [
    "disorder.printSchema()"
   ]
  },
  {
   "cell_type": "code",
   "execution_count": 31,
   "id": "0e45291b",
   "metadata": {},
   "outputs": [
    {
     "name": "stdout",
     "output_type": "stream",
     "text": [
      "root\n",
      " |-- index: integer (nullable = true)\n",
      " |-- Entity: string (nullable = true)\n",
      " |-- Code: string (nullable = true)\n",
      " |-- Year: string (nullable = true)\n",
      " |-- Schizophrenia (%): string (nullable = true)\n",
      "\n"
     ]
    }
   ],
   "source": [
    "disorder.drop('Bipolar disorder (%)','Eating disorders (%)','Anxiety disorders (%)','Drug use disorders (%)','Depression (%)','Alcohol use disorders (%)').printSchema()"
   ]
  },
  {
   "cell_type": "code",
   "execution_count": null,
   "id": "b8e51bf3",
   "metadata": {},
   "outputs": [],
   "source": [
    "disorder.drop('index','Code').printSchema()\n",
    "demo.drop('c_codes').printSchema()\n",
    "happy.drop('Regional Indicator').printSchema()\n",
    "\n",
    "disorder.withColumnRenamed('Entity', 'Country').withColumnRenamed('Schizophrenia (%)', 'Schizophrenia').show()\n",
    "demo.withColumnRenamed('country', 'Country').withColumnRenamed('date', 'Year').withColumnRenamed('GNP per Capita', 'GNP').withColumnRenamed('life_expectancy', 'Life_expectancy').withColumnRenamed('Total_Fertility_Rate', 'Fertility_rate').show()\n",
    "happy.withColumnRenamed('Country Name', 'Country').withColumnRenamed('Life Ladder', 'Life_ladder').withColumnRenamed('Schizophrenia', 'Schizophrenia').withColumnRenamed('Schizophrenia', 'Schizophrenia').withColumnRenamed('Schizophrenia', 'Schizophrenia').withColumnRenamed('Schizophrenia', 'Schizophrenia').withColumnRenamed('Schizophrenia', 'Schizophrenia').withColumnRenamed('Schizophrenia', 'Schizophrenia').withColumnRenamed('Schizophrenia', 'Schizophrenia').withColumnRenamed('Schizophrenia', 'Schizophrenia').show()\n",
    "\n"
   ]
  },
  {
   "cell_type": "code",
   "execution_count": null,
   "id": "2aa055cc",
   "metadata": {},
   "outputs": [],
   "source": []
  }
 ],
 "metadata": {
  "kernelspec": {
   "display_name": "Python 3 (ipykernel)",
   "language": "python",
   "name": "python3"
  },
  "language_info": {
   "codemirror_mode": {
    "name": "ipython",
    "version": 3
   },
   "file_extension": ".py",
   "mimetype": "text/x-python",
   "name": "python",
   "nbconvert_exporter": "python",
   "pygments_lexer": "ipython3",
   "version": "3.10.4"
  }
 },
 "nbformat": 4,
 "nbformat_minor": 5
}
