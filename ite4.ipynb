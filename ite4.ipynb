{
 "cells": [
  {
   "cell_type": "code",
   "execution_count": 1,
   "id": "e9facff0",
   "metadata": {},
   "outputs": [
    {
     "name": "stderr",
     "output_type": "stream",
     "text": [
      "WARNING: An illegal reflective access operation has occurred\n",
      "WARNING: Illegal reflective access by org.apache.spark.unsafe.Platform (file:/home/ubuntu/spark-3.2.1-bin-hadoop2.7/jars/spark-unsafe_2.12-3.2.1.jar) to constructor java.nio.DirectByteBuffer(long,int)\n",
      "WARNING: Please consider reporting this to the maintainers of org.apache.spark.unsafe.Platform\n",
      "WARNING: Use --illegal-access=warn to enable warnings of further illegal reflective access operations\n",
      "WARNING: All illegal access operations will be denied in a future release\n",
      "Using Spark's default log4j profile: org/apache/spark/log4j-defaults.properties\n",
      "Setting default log level to \"WARN\".\n",
      "To adjust logging level use sc.setLogLevel(newLevel). For SparkR, use setLogLevel(newLevel).\n",
      "23/10/08 03:59:46 WARN NativeCodeLoader: Unable to load native-hadoop library for your platform... using builtin-java classes where applicable\n"
     ]
    }
   ],
   "source": [
    "import findspark\n",
    "findspark.init('/home/ubuntu/spark-3.2.1-bin-hadoop2.7')\n",
    "import pyspark\n",
    "from pyspark.sql import SparkSession\n",
    "spark = SparkSession.builder.appName('ite4').getOrCreate()"
   ]
  },
  {
   "cell_type": "code",
   "execution_count": 2,
   "id": "31aaf8ef",
   "metadata": {},
   "outputs": [
    {
     "name": "stderr",
     "output_type": "stream",
     "text": [
      "\r",
      "[Stage 1:=============================>                             (1 + 1) / 2]\r"
     ]
    },
    {
     "name": "stdout",
     "output_type": "stream",
     "text": [
      "root\n",
      " |-- index: integer (nullable = true)\n",
      " |-- Entity: string (nullable = true)\n",
      " |-- Code: string (nullable = true)\n",
      " |-- Year: string (nullable = true)\n",
      " |-- Schizophrenia (%): string (nullable = true)\n",
      " |-- Bipolar disorder (%): string (nullable = true)\n",
      " |-- Eating disorders (%): string (nullable = true)\n",
      " |-- Anxiety disorders (%): double (nullable = true)\n",
      " |-- Drug use disorders (%): double (nullable = true)\n",
      " |-- Depression (%): double (nullable = true)\n",
      " |-- Alcohol use disorders (%): double (nullable = true)\n",
      "\n"
     ]
    },
    {
     "name": "stderr",
     "output_type": "stream",
     "text": [
      "\r",
      "                                                                                \r"
     ]
    }
   ],
   "source": [
    "disorder = spark.read.csv('disorder.csv', inferSchema=True, header=True) # get disorder data\n",
    "disorder.printSchema()"
   ]
  },
  {
   "cell_type": "code",
   "execution_count": 3,
   "id": "66ee2c47",
   "metadata": {},
   "outputs": [
    {
     "name": "stdout",
     "output_type": "stream",
     "text": [
      "+-----+-----------+----+----+-----------------+--------------------+--------------------+---------------------+----------------------+--------------+-------------------------+\n",
      "|index|     Entity|Code|Year|Schizophrenia (%)|Bipolar disorder (%)|Eating disorders (%)|Anxiety disorders (%)|Drug use disorders (%)|Depression (%)|Alcohol use disorders (%)|\n",
      "+-----+-----------+----+----+-----------------+--------------------+--------------------+---------------------+----------------------+--------------+-------------------------+\n",
      "|    0|Afghanistan| AFG|1990|          0.16056|            0.697779|            0.101855|              4.82883|              1.677082|      4.071831|                 0.672404|\n",
      "|    1|Afghanistan| AFG|1991|         0.160312|            0.697961|            0.099313|              4.82974|              1.684746|      4.079531|                 0.671768|\n",
      "|    2|Afghanistan| AFG|1992|         0.160135|            0.698107|            0.096692|             4.831108|              1.694334|      4.088358|                 0.670644|\n",
      "|    3|Afghanistan| AFG|1993|         0.160037|            0.698257|            0.094336|             4.830864|               1.70532|       4.09619|                 0.669738|\n",
      "|    4|Afghanistan| AFG|1994|         0.160022|            0.698469|            0.092439|             4.829423|              1.716069|      4.099582|                  0.66926|\n",
      "|    5|Afghanistan| AFG|1995|         0.160076|            0.698695|             0.09098|             4.828337|              1.728112|      4.104207|                 0.668746|\n",
      "|    6|Afghanistan| AFG|1996|         0.160249|            0.698914|            0.089709|             4.828083|              1.737643|        4.1075|                 0.667727|\n",
      "|    7|Afghanistan| AFG|1997|         0.160554|            0.699127|            0.088372|             4.827726|              1.746891|      4.110834|                  0.66622|\n",
      "|    8|Afghanistan| AFG|1998|         0.160931|            0.699372|             0.08733|             4.826971|              1.756963|      4.114438|                 0.664676|\n",
      "|    9|Afghanistan| AFG|1999|         0.161311|            0.699674|            0.086267|             4.826413|              1.770791|      4.117633|                 0.663428|\n",
      "|   10|Afghanistan| AFG|2000|         0.161621|            0.700015|            0.086021|             4.827047|              1.788395|       4.11861|                 0.662479|\n",
      "|   11|Afghanistan| AFG|2001|         0.161957|            0.700499|            0.086517|             4.831409|              1.839123|      4.121381|                 0.661158|\n",
      "|   12|Afghanistan| AFG|2002|         0.162414|            0.701141|            0.087023|             4.838318|              1.934326|      4.124928|                 0.659213|\n",
      "|   13|Afghanistan| AFG|2003|         0.162916|             0.70186|            0.087189|             4.845538|              2.051106|       4.12523|                 0.657354|\n",
      "|   14|Afghanistan| AFG|2004|         0.163377|            0.702556|            0.088158|             4.851512|              2.163044|      4.126384|                 0.656132|\n",
      "|   15|Afghanistan| AFG|2005|         0.163706|            0.703078|            0.088933|             4.854684|              2.247443|      4.126908|                 0.655686|\n",
      "|   16|Afghanistan| AFG|2006|         0.163977|            0.703517|            0.090054|             4.856685|               2.32102|      4.128638|                 0.656297|\n",
      "|   17|Afghanistan| AFG|2007|         0.164302|            0.703998|            0.091688|             4.858861|              2.405564|      4.129728|                 0.657709|\n",
      "|   18|Afghanistan| AFG|2008|         0.164639|             0.70448|            0.093589|             4.860437|              2.483862|      4.129656|                 0.659501|\n",
      "|   19|Afghanistan| AFG|2009|         0.164932|            0.704925|            0.095166|             4.861533|              2.543884|      4.129972|                 0.661185|\n",
      "+-----+-----------+----+----+-----------------+--------------------+--------------------+---------------------+----------------------+--------------+-------------------------+\n",
      "only showing top 20 rows\n",
      "\n"
     ]
    }
   ],
   "source": [
    "disorder.show()"
   ]
  },
  {
   "cell_type": "code",
   "execution_count": 4,
   "id": "080f4926",
   "metadata": {},
   "outputs": [
    {
     "name": "stdout",
     "output_type": "stream",
     "text": [
      "root\n",
      " |-- country: string (nullable = true)\n",
      " |-- date: integer (nullable = true)\n",
      " |-- GNP per Capita: double (nullable = true)\n",
      " |-- Inflation: double (nullable = true)\n",
      " |-- Industry: double (nullable = true)\n",
      " |-- life_expectancy: double (nullable = true)\n",
      " |-- Total_Fertility_Rate: double (nullable = true)\n",
      " |-- Population: double (nullable = true)\n",
      " |-- Migration: double (nullable = true)\n",
      " |-- Political_stability: double (nullable = true)\n",
      " |-- c_codes: string (nullable = true)\n",
      "\n"
     ]
    }
   ],
   "source": [
    "demo = spark.read.csv('demographic.csv', inferSchema=True, header=True)  # get demographic data\n",
    "demo.printSchema()"
   ]
  },
  {
   "cell_type": "code",
   "execution_count": 5,
   "id": "2b5abfbd",
   "metadata": {},
   "outputs": [
    {
     "name": "stdout",
     "output_type": "stream",
     "text": [
      "+-----------+----+--------------+---------+--------+------------------+--------------------+-----------+----------+-------------------+-------+\n",
      "|    country|date|GNP per Capita|Inflation|Industry|   life_expectancy|Total_Fertility_Rate| Population| Migration|Political_stability|c_codes|\n",
      "+-----------+----+--------------+---------+--------+------------------+--------------------+-----------+----------+-------------------+-------+\n",
      "|AFGHANISTAN|1960|          null|     null|    null|            32.292|                7.45|  8996351.0|      null|               null|    AFG|\n",
      "|AFGHANISTAN|1961|          null|     null|    null|            32.742|                7.45|  9166764.0|      null|               null|    AFG|\n",
      "|AFGHANISTAN|1962|          null|     null|    null|            33.185|                7.45|  9345868.0|  -20000.0|               null|    AFG|\n",
      "|AFGHANISTAN|1963|          null|     null|    null|            33.624|                7.45|  9533954.0|      null|               null|    AFG|\n",
      "|AFGHANISTAN|1964|          null|     null|    null|             34.06|                7.45|  9731361.0|      null|               null|    AFG|\n",
      "|AFGHANISTAN|1965|          null|     null|    null|            34.495|                7.45|  9938414.0|      null|               null|    AFG|\n",
      "|AFGHANISTAN|1966|          null|     null|    null|34.928000000000004|                7.45|1.0152331E7|      null|               null|    AFG|\n",
      "|AFGHANISTAN|1967|          null|     null|    null|            35.361|                7.45| 1.037263E7|  -20000.0|               null|    AFG|\n",
      "|AFGHANISTAN|1968|          null|     null|    null|            35.796|                7.45|1.0604346E7|      null|               null|    AFG|\n",
      "|AFGHANISTAN|1969|          null|     null|    null|            36.234|                7.45|1.0854428E7|      null|               null|    AFG|\n",
      "|AFGHANISTAN|1970|          null|     null|    null|            36.678|                7.45|1.1126123E7|      null|               null|    AFG|\n",
      "|AFGHANISTAN|1971|          null|     null|    null|            37.128|                7.45|1.1417825E7|      null|               null|    AFG|\n",
      "|AFGHANISTAN|1972|          null|     null|    null|            37.587|                7.45| 1.172194E7|  -20000.0|               null|    AFG|\n",
      "|AFGHANISTAN|1973|          null|     null|    null|            38.056|                7.45|1.2027822E7|      null|               null|    AFG|\n",
      "|AFGHANISTAN|1974|          null|     null|    null|             38.54|                7.45|1.2321541E7|      null|               null|    AFG|\n",
      "|AFGHANISTAN|1975|          null|     null|    null|            39.039|                7.45|1.2590286E7|      null|               null|    AFG|\n",
      "|AFGHANISTAN|1976|          null|     null|    null|            39.556|                7.45|1.2840299E7|      null|               null|    AFG|\n",
      "|AFGHANISTAN|1977|          null|     null|    null|            40.092|               7.449|1.3067538E7|-1092462.0|               null|    AFG|\n",
      "|AFGHANISTAN|1978|          null|     null|    null|             40.65|               7.449|1.3237734E7|      null|               null|    AFG|\n",
      "|AFGHANISTAN|1979|          null|     null|    null|            41.234|               7.449|1.3306695E7|      null|               null|    AFG|\n",
      "+-----------+----+--------------+---------+--------+------------------+--------------------+-----------+----------+-------------------+-------+\n",
      "only showing top 20 rows\n",
      "\n"
     ]
    }
   ],
   "source": [
    "demo.show()"
   ]
  },
  {
   "cell_type": "code",
   "execution_count": 6,
   "id": "b7ae1ea7",
   "metadata": {},
   "outputs": [
    {
     "name": "stdout",
     "output_type": "stream",
     "text": [
      "root\n",
      " |-- Country Name: string (nullable = true)\n",
      " |-- Regional Indicator: string (nullable = true)\n",
      " |-- Year: integer (nullable = true)\n",
      " |-- Life Ladder: double (nullable = true)\n",
      " |-- Log GDP Per Capita: double (nullable = true)\n",
      " |-- Social Support: double (nullable = true)\n",
      " |-- Healthy Life Expectancy At Birth: double (nullable = true)\n",
      " |-- Freedom To Make Life Choices: double (nullable = true)\n",
      " |-- Generosity: double (nullable = true)\n",
      " |-- Perceptions Of Corruption: double (nullable = true)\n",
      " |-- Positive Affect: double (nullable = true)\n",
      " |-- Negative Affect: double (nullable = true)\n",
      " |-- Confidence In National Government: double (nullable = true)\n",
      "\n"
     ]
    }
   ],
   "source": [
    "happy = spark.read.csv('happiness.csv', inferSchema=True, header=True)  # get happiness data\n",
    "happy.printSchema()"
   ]
  },
  {
   "cell_type": "code",
   "execution_count": 7,
   "id": "56b65cca",
   "metadata": {},
   "outputs": [
    {
     "name": "stdout",
     "output_type": "stream",
     "text": [
      "+------------+--------------------+----+-----------+------------------+--------------+--------------------------------+----------------------------+------------+-------------------------+---------------+---------------+---------------------------------+\n",
      "|Country Name|  Regional Indicator|Year|Life Ladder|Log GDP Per Capita|Social Support|Healthy Life Expectancy At Birth|Freedom To Make Life Choices|  Generosity|Perceptions Of Corruption|Positive Affect|Negative Affect|Confidence In National Government|\n",
      "+------------+--------------------+----+-----------+------------------+--------------+--------------------------------+----------------------------+------------+-------------------------+---------------+---------------+---------------------------------+\n",
      "| Afghanistan|          South Asia|2008|3.723589897|       7.350416183|   0.450662315|                            50.5|                 0.718114316| 0.167652458|               0.88168633|    0.414297044|     0.25819549|                       0.61207211|\n",
      "| Afghanistan|          South Asia|2009|4.401778221|       7.508646011|    0.55230844|                     50.79999924|                 0.678896368| 0.190808803|              0.850035429|    0.481421441|     0.23709242|                      0.611545205|\n",
      "| Afghanistan|          South Asia|2010| 4.75838089|       7.613899708|   0.539075196|                     51.09999847|                  0.60012722| 0.121316046|              0.706766069|    0.516906679|    0.275323808|                      0.299357414|\n",
      "| Afghanistan|          South Asia|2011| 3.83171916|       7.581258774|   0.521103561|                     51.40000153|                 0.495901406| 0.163571492|              0.731108546|    0.479834676|    0.267174691|                      0.307385713|\n",
      "| Afghanistan|          South Asia|2012|3.782937527|       7.660505772|   0.520636737|                     51.70000076|                 0.530935049| 0.237587586|              0.775619805|    0.613512814|    0.267919123|                      0.435440153|\n",
      "| Afghanistan|          South Asia|2013|3.572100401|       7.680333138|    0.48355186|                            52.0|                 0.577955365| 0.062666222|                0.8232041|    0.547416985|    0.273328096|                      0.482847273|\n",
      "| Afghanistan|          South Asia|2014|3.130895615|       7.670638084|   0.525568426|                     52.29999924|                 0.508514047| 0.105754882|              0.871241987|    0.491641015|    0.374860734|                      0.409047514|\n",
      "| Afghanistan|          South Asia|2015|3.982854605|       7.653833389|   0.528597236|                     52.59999847|                 0.388927579| 0.081652276|              0.880638301|    0.491409957|    0.339276046|                      0.260557145|\n",
      "| Afghanistan|          South Asia|2016|4.220168591|       7.650369644|   0.559071779|                     52.92499924|                 0.522566199| 0.043916017|              0.793245554|    0.501408756|    0.348332286|                      0.324989557|\n",
      "| Afghanistan|          South Asia|2017| 2.66171813|       7.647830486|   0.490880072|                           53.25|                 0.427010864| -0.11941047|              0.954392552|    0.435269952|    0.371326178|                      0.261178523|\n",
      "| Afghanistan|          South Asia|2018|2.694303274|       7.630800724|   0.507515848|                     53.57500076|                 0.373535544|-0.091105983|              0.927605689|    0.384561479|    0.404904395|                      0.364666402|\n",
      "| Afghanistan|          South Asia|2019|2.375091791|       7.640085697|   0.419972867|                     53.90000153|                 0.393656164| -0.10601645|              0.923849106|    0.324107826|    0.502473712|                      0.341482222|\n",
      "| Afghanistan|          South Asia|2021|2.436034441|       7.324032307|   0.454174697|                     54.54999924|                 0.394305944|-0.081011124|              0.946299374|    0.178885803|     0.60671258|                      0.255620003|\n",
      "| Afghanistan|          South Asia|2022|  1.2812711|              null|   0.228217229|                          54.875|                 0.368377149|        null|              0.733197868|    0.205867782|    0.575511873|                             null|\n",
      "|     Albania|Central and Easte...|2007|4.634251595|       9.121704102|   0.821371615|                     66.76000214|                 0.528604746|-0.010428508|              0.874699533|    0.488818616|     0.24633503|                      0.300680578|\n",
      "|     Albania|Central and Easte...|2009|5.485469818|       9.241429329|   0.833046615|                     67.31999969|                 0.525223255|-0.159258857|              0.863665402|    0.564474463|    0.279256523|                             null|\n",
      "|     Albania|Central and Easte...|2010|5.268936634|       9.282793045|    0.73315227|                     67.59999847|                 0.568958402|-0.173675284|              0.726261675|    0.576076567|    0.300060242|                             null|\n",
      "|     Albania|Central and Easte...|2011|5.867421627|       9.310619354|   0.759433806|                     67.87999725|                 0.487496257|-0.206186071|              0.877002597|    0.565758884|    0.256576508|                             null|\n",
      "|     Albania|Central and Easte...|2012|5.510124207|       9.326343536|   0.784501791|                     68.16000366|                 0.601512134|-0.170467481|              0.847675204|    0.553473175|    0.271393239|                      0.364893705|\n",
      "|     Albania|Central and Easte...|2013|4.550647736|        9.33814621|   0.759476721|                     68.44000244|                 0.631830275|-0.128825098|              0.862904966|     0.54075098|    0.338378578|                      0.338094711|\n",
      "+------------+--------------------+----+-----------+------------------+--------------+--------------------------------+----------------------------+------------+-------------------------+---------------+---------------+---------------------------------+\n",
      "only showing top 20 rows\n",
      "\n"
     ]
    }
   ],
   "source": [
    "happy.show()"
   ]
  },
  {
   "cell_type": "code",
   "execution_count": 8,
   "id": "0b2209f2",
   "metadata": {},
   "outputs": [
    {
     "name": "stderr",
     "output_type": "stream",
     "text": [
      "[Stage 9:=============================>                             (1 + 1) / 2]\r"
     ]
    },
    {
     "name": "stdout",
     "output_type": "stream",
     "text": [
      "+-------+------------------+-----------+------+------------------+--------------------+--------------------+--------------------+---------------------+----------------------+------------------+-------------------------+\n",
      "|summary|             index|     Entity|  Code|              Year|   Schizophrenia (%)|Bipolar disorder (%)|Eating disorders (%)|Anxiety disorders (%)|Drug use disorders (%)|    Depression (%)|Alcohol use disorders (%)|\n",
      "+-------+------------------+-----------+------+------------------+--------------------+--------------------+--------------------+---------------------+----------------------+------------------+-------------------------+\n",
      "|  count|            108553|     108553|103141|            108553|               25875|               19406|              100236|                 6468|                  6468|              6468|                     6468|\n",
      "|   mean|           54276.0|       null|  null|1923.9978415275343|  1101844.3786920486|  1118.3980735172652|2.7903132480538636E7|    3.989921290661714|    0.8622780476190429|3.4976535859616544|       1.5858214205318488|\n",
      "| stddev|31336.696222905608|       null|  null| 88.58329364119412|   8878369.417451045|  1617.8902918889498|2.4489244565512452E8|   1.1675262490327298|   0.46067884391002767|0.6558588765781542|       0.8602834093669828|\n",
      "|    min|                 0|Afghanistan|   ABW|                 0|            0.146902|            0.314535|            0.073908|             2.023393|               0.38365|          2.139903|                  0.44694|\n",
      "|    max|            108552|   Zimbabwe|   ZWE|              Year|Suicide rate (dea...|Prevalence in fem...|          Population|              8.96733|              3.452476|          6.602754|                 5.474668|\n",
      "+-------+------------------+-----------+------+------------------+--------------------+--------------------+--------------------+---------------------+----------------------+------------------+-------------------------+\n",
      "\n"
     ]
    },
    {
     "name": "stderr",
     "output_type": "stream",
     "text": [
      "\r",
      "                                                                                \r"
     ]
    }
   ],
   "source": [
    "disorder.describe().show()"
   ]
  },
  {
   "cell_type": "code",
   "execution_count": 9,
   "id": "84ef8105",
   "metadata": {},
   "outputs": [
    {
     "name": "stdout",
     "output_type": "stream",
     "text": [
      "+-------+-----------+------------------+-----------------+------------------+--------------------+------------------+--------------------+--------------------+-----------------+-------------------+-------+\n",
      "|summary|    country|              date|   GNP per Capita|         Inflation|            Industry|   life_expectancy|Total_Fertility_Rate|          Population|        Migration|Political_stability|c_codes|\n",
      "+-------+-----------+------------------+-----------------+------------------+--------------------+------------------+--------------------+--------------------+-----------------+-------------------+-------+\n",
      "|  count|      10734|             10734|             6967|              7653|                1907|              9223|                9239|               10343|             1914|               3237|  10291|\n",
      "|   mean|       null|1989.2374697223775|7773.675900674609|29.687432789918226| 2.13422294584824E11| 63.61896875927687|   4.091559254248293| 2.621848498888137E7|1566.175026123302| 36.084447203243755|   null|\n",
      "| stddev|       null|17.020169579704802|14814.97576196037| 336.8182394019282|5.368412126500965E11|11.685864578659716|  2.0331201877073175|1.0969125160084073E8|542349.9642429159|   23.9925027498021|   null|\n",
      "|    min|AFGHANISTAN|              1960|             40.0| -98.7038313429157|-2.20317360359605E11|            18.907|               1.085|              4433.0|       -3570954.0|                0.0|    ABW|\n",
      "|    max|   ZIMBABWE|              2018|         186080.0|15444.384137371899|   5.082271149845E12| 85.41707317073171|               8.462|          1.386395E9|        8612074.0|           97.14286|    ZWE|\n",
      "+-------+-----------+------------------+-----------------+------------------+--------------------+------------------+--------------------+--------------------+-----------------+-------------------+-------+\n",
      "\n"
     ]
    }
   ],
   "source": [
    "demo.describe().show()"
   ]
  },
  {
   "cell_type": "code",
   "execution_count": 10,
   "id": "23afa7c1",
   "metadata": {},
   "outputs": [
    {
     "name": "stderr",
     "output_type": "stream",
     "text": [
      "                                                                                \r"
     ]
    },
    {
     "data": {
      "text/plain": [
       "276"
      ]
     },
     "execution_count": 10,
     "metadata": {},
     "output_type": "execute_result"
    }
   ],
   "source": [
    "disorder.select('Entity').distinct().count() # get the number of unique countries"
   ]
  },
  {
   "cell_type": "code",
   "execution_count": 11,
   "id": "b5aa7715",
   "metadata": {},
   "outputs": [
    {
     "data": {
      "text/plain": [
       "187"
      ]
     },
     "execution_count": 11,
     "metadata": {},
     "output_type": "execute_result"
    }
   ],
   "source": [
    "demo.select('country').distinct().count() # get the number of unique countries"
   ]
  },
  {
   "cell_type": "code",
   "execution_count": 12,
   "id": "be710558",
   "metadata": {},
   "outputs": [
    {
     "data": {
      "text/plain": [
       "165"
      ]
     },
     "execution_count": 12,
     "metadata": {},
     "output_type": "execute_result"
    }
   ],
   "source": [
    "happy.select('Country Name').distinct().count() # get the number of unique countries"
   ]
  },
  {
   "cell_type": "code",
   "execution_count": 13,
   "id": "e6feaf28",
   "metadata": {},
   "outputs": [
    {
     "data": {
      "text/plain": [
       "259"
      ]
     },
     "execution_count": 13,
     "metadata": {},
     "output_type": "execute_result"
    }
   ],
   "source": [
    "disorder.select('Year').distinct().count() # get the number of unique years"
   ]
  },
  {
   "cell_type": "code",
   "execution_count": 14,
   "id": "0e4095bb",
   "metadata": {},
   "outputs": [
    {
     "name": "stdout",
     "output_type": "stream",
     "text": [
      "+-------+------------------+\n",
      "|summary|              Year|\n",
      "+-------+------------------+\n",
      "|  count|            108553|\n",
      "|   mean|1923.9978415275343|\n",
      "| stddev| 88.58329364119412|\n",
      "|    min|                 0|\n",
      "|    max|              Year|\n",
      "+-------+------------------+\n",
      "\n"
     ]
    }
   ],
   "source": [
    "disorder.select('Year').describe().show() # get the number of unique years"
   ]
  },
  {
   "cell_type": "code",
   "execution_count": 15,
   "id": "8d05a9f5",
   "metadata": {},
   "outputs": [
    {
     "data": {
      "text/plain": [
       "59"
      ]
     },
     "execution_count": 15,
     "metadata": {},
     "output_type": "execute_result"
    }
   ],
   "source": [
    "demo.select('date').distinct().count() # get the number of unique years"
   ]
  },
  {
   "cell_type": "code",
   "execution_count": 16,
   "id": "7dceea2c",
   "metadata": {},
   "outputs": [
    {
     "name": "stdout",
     "output_type": "stream",
     "text": [
      "+-------+------------------+\n",
      "|summary|              date|\n",
      "+-------+------------------+\n",
      "|  count|             10734|\n",
      "|   mean|1989.2374697223775|\n",
      "| stddev|17.020169579704802|\n",
      "|    min|              1960|\n",
      "|    max|              2018|\n",
      "+-------+------------------+\n",
      "\n"
     ]
    }
   ],
   "source": [
    "demo.select('date').describe().show() # get the number of unique years"
   ]
  },
  {
   "cell_type": "code",
   "execution_count": 17,
   "id": "59a0d07b",
   "metadata": {},
   "outputs": [
    {
     "data": {
      "text/plain": [
       "18"
      ]
     },
     "execution_count": 17,
     "metadata": {},
     "output_type": "execute_result"
    }
   ],
   "source": [
    "happy.select('Year').distinct().count() # get the number of unique years"
   ]
  },
  {
   "cell_type": "code",
   "execution_count": 18,
   "id": "24390af6",
   "metadata": {},
   "outputs": [
    {
     "name": "stdout",
     "output_type": "stream",
     "text": [
      "+-------+------------------+\n",
      "|summary|              Year|\n",
      "+-------+------------------+\n",
      "|  count|              2199|\n",
      "|   mean|2014.1614370168259|\n",
      "| stddev| 4.718735519608616|\n",
      "|    min|              2005|\n",
      "|    max|              2022|\n",
      "+-------+------------------+\n",
      "\n"
     ]
    }
   ],
   "source": [
    "happy.select('Year').describe().show() "
   ]
  },
  {
   "cell_type": "code",
   "execution_count": 19,
   "id": "d39eae61",
   "metadata": {},
   "outputs": [
    {
     "name": "stdout",
     "output_type": "stream",
     "text": [
      "root\n",
      " |-- index: integer (nullable = true)\n",
      " |-- Entity: string (nullable = true)\n",
      " |-- Code: string (nullable = true)\n",
      " |-- Year: string (nullable = true)\n",
      " |-- Schizophrenia (%): string (nullable = true)\n",
      " |-- Bipolar disorder (%): string (nullable = true)\n",
      " |-- Eating disorders (%): string (nullable = true)\n",
      " |-- Anxiety disorders (%): double (nullable = true)\n",
      " |-- Drug use disorders (%): double (nullable = true)\n",
      " |-- Depression (%): double (nullable = true)\n",
      " |-- Alcohol use disorders (%): double (nullable = true)\n",
      "\n"
     ]
    }
   ],
   "source": [
    "disorder.printSchema()"
   ]
  },
  {
   "cell_type": "code",
   "execution_count": 20,
   "id": "0e45291b",
   "metadata": {},
   "outputs": [],
   "source": [
    "disorder = disorder.drop('Bipolar disorder (%)','Eating disorders (%)','Anxiety disorders (%)','Drug use disorders (%)','Depression (%)','Alcohol use disorders (%)')"
   ]
  },
  {
   "cell_type": "code",
   "execution_count": 21,
   "id": "bf447280",
   "metadata": {},
   "outputs": [
    {
     "name": "stdout",
     "output_type": "stream",
     "text": [
      "root\n",
      " |-- index: integer (nullable = true)\n",
      " |-- Entity: string (nullable = true)\n",
      " |-- Code: string (nullable = true)\n",
      " |-- Year: string (nullable = true)\n",
      " |-- Schizophrenia (%): string (nullable = true)\n",
      "\n"
     ]
    }
   ],
   "source": [
    "disorder.printSchema()"
   ]
  },
  {
   "cell_type": "code",
   "execution_count": 22,
   "id": "b8e51bf3",
   "metadata": {},
   "outputs": [],
   "source": [
    "# drop unwanted features\n",
    "\n",
    "disorder = disorder.drop('index','Code')\n",
    "demo = demo.drop('c_codes')\n",
    "happy = happy.drop('Regional Indicator')\n",
    "\n",
    "disorder = disorder.withColumnRenamed('Entity', 'Country').withColumnRenamed('Schizophrenia (%)', 'Schizophrenia')\n",
    "demo = demo.withColumnRenamed('country', 'Country').withColumnRenamed('date', 'Year').withColumnRenamed('GNP per Capita', 'GNP').withColumnRenamed('life_expectancy', 'Life_expectancy').withColumnRenamed('Total_Fertility_Rate', 'Fertility_rate')\n",
    "happy = happy.withColumnRenamed('Country Name', 'Country').withColumnRenamed('Life Ladder', 'Life_ladder').withColumnRenamed('Log GDP Per Capita', 'GDP').withColumnRenamed('Social Support', 'Social_support').withColumnRenamed('Healthy Life Expectancy At Birth', 'Healthy_life_expectancy').withColumnRenamed('Freedom To Make Life Choices', 'Freedom').withColumnRenamed('Perceptions Of Corruption', 'Corruption').withColumnRenamed('Positive Affect', 'Positive_affect').withColumnRenamed('Negative Affect', 'Negative_affect').withColumnRenamed('Confidence In National Government', 'Confidence_in_government')\n"
   ]
  },
  {
   "cell_type": "code",
   "execution_count": 23,
   "id": "2aa055cc",
   "metadata": {},
   "outputs": [
    {
     "name": "stdout",
     "output_type": "stream",
     "text": [
      "root\n",
      " |-- Country: string (nullable = true)\n",
      " |-- Year: string (nullable = true)\n",
      " |-- Schizophrenia: string (nullable = true)\n",
      "\n"
     ]
    }
   ],
   "source": [
    "disorder.printSchema()"
   ]
  },
  {
   "cell_type": "code",
   "execution_count": 24,
   "id": "d315913d",
   "metadata": {},
   "outputs": [
    {
     "name": "stdout",
     "output_type": "stream",
     "text": [
      "root\n",
      " |-- Country: string (nullable = true)\n",
      " |-- Year: integer (nullable = true)\n",
      " |-- GNP: double (nullable = true)\n",
      " |-- Inflation: double (nullable = true)\n",
      " |-- Industry: double (nullable = true)\n",
      " |-- Life_expectancy: double (nullable = true)\n",
      " |-- Fertility_rate: double (nullable = true)\n",
      " |-- Population: double (nullable = true)\n",
      " |-- Migration: double (nullable = true)\n",
      " |-- Political_stability: double (nullable = true)\n",
      "\n"
     ]
    }
   ],
   "source": [
    "demo.printSchema()"
   ]
  },
  {
   "cell_type": "code",
   "execution_count": 25,
   "id": "c2b8f3f3",
   "metadata": {},
   "outputs": [
    {
     "name": "stdout",
     "output_type": "stream",
     "text": [
      "root\n",
      " |-- Country: string (nullable = true)\n",
      " |-- Year: integer (nullable = true)\n",
      " |-- Life_ladder: double (nullable = true)\n",
      " |-- GDP: double (nullable = true)\n",
      " |-- Social_support: double (nullable = true)\n",
      " |-- Healthy_life_expectancy: double (nullable = true)\n",
      " |-- Freedom: double (nullable = true)\n",
      " |-- Generosity: double (nullable = true)\n",
      " |-- Corruption: double (nullable = true)\n",
      " |-- Positive_affect: double (nullable = true)\n",
      " |-- Negative_affect: double (nullable = true)\n",
      " |-- Confidence_in_government: double (nullable = true)\n",
      "\n"
     ]
    }
   ],
   "source": [
    "happy.printSchema()"
   ]
  },
  {
   "cell_type": "code",
   "execution_count": 26,
   "id": "3239eacf",
   "metadata": {},
   "outputs": [
    {
     "name": "stderr",
     "output_type": "stream",
     "text": [
      "\r",
      "[Stage 60:=============================>                            (1 + 1) / 2]\r"
     ]
    },
    {
     "name": "stdout",
     "output_type": "stream",
     "text": [
      "+-------+-----------+------------------+--------------------+\n",
      "|summary|    Country|              Year|       Schizophrenia|\n",
      "+-------+-----------+------------------+--------------------+\n",
      "|  count|     108553|            108553|               25875|\n",
      "|   mean|       null|1923.9978415275343|  1101844.3786920486|\n",
      "| stddev|       null| 88.58329364119412|   8878369.417451045|\n",
      "|    min|Afghanistan|                 0|            0.146902|\n",
      "|    25%|       null|            1867.0|            0.375092|\n",
      "|    50%|       null|            1936.0|            3.670473|\n",
      "|    75%|       null|            1992.0|           98.831696|\n",
      "|    max|   Zimbabwe|              Year|Suicide rate (dea...|\n",
      "+-------+-----------+------------------+--------------------+\n",
      "\n"
     ]
    },
    {
     "name": "stderr",
     "output_type": "stream",
     "text": [
      "\r",
      "                                                                                \r"
     ]
    }
   ],
   "source": [
    "disorder.summary().show()"
   ]
  },
  {
   "cell_type": "code",
   "execution_count": 27,
   "id": "7ad92627",
   "metadata": {},
   "outputs": [
    {
     "name": "stdout",
     "output_type": "stream",
     "text": [
      "root\n",
      " |-- Country: string (nullable = true)\n",
      " |-- Year: string (nullable = true)\n",
      " |-- Schizophrenia: string (nullable = true)\n",
      "\n"
     ]
    }
   ],
   "source": [
    "disorder.printSchema()"
   ]
  },
  {
   "cell_type": "code",
   "execution_count": 28,
   "id": "b6854c10",
   "metadata": {},
   "outputs": [
    {
     "name": "stdout",
     "output_type": "stream",
     "text": [
      "+-------+-----------+----------------+--------------------+\n",
      "|summary|    Country|            Year|       Schizophrenia|\n",
      "+-------+-----------+----------------+--------------------+\n",
      "|  count|       6468|            6468|                6468|\n",
      "|   mean|       null|          2003.5| 0.21164355318491077|\n",
      "| stddev|       null|8.07837172245116|0.044252801301788984|\n",
      "|    min|Afghanistan|            1990|            0.146902|\n",
      "|    max|   Zimbabwe|            2017|             0.37511|\n",
      "+-------+-----------+----------------+--------------------+\n",
      "\n"
     ]
    }
   ],
   "source": [
    "# remove rows with rate >= 1 & convert to numeric\n",
    "from pyspark.sql.functions import initcap, col\n",
    "disorder = disorder.withColumn('Schizophrenia', col('Schizophrenia').cast(\"double\"))\n",
    "disorder = disorder.filter(col(\"Schizophrenia\") <= 1)\n",
    "disorder.describe().show()"
   ]
  },
  {
   "cell_type": "code",
   "execution_count": 29,
   "id": "9881dffa",
   "metadata": {},
   "outputs": [
    {
     "name": "stdout",
     "output_type": "stream",
     "text": [
      "+-----------+----+-------------+\n",
      "|    Country|Year|Schizophrenia|\n",
      "+-----------+----+-------------+\n",
      "|Netherlands|2006|      0.37511|\n",
      "|Netherlands|2005|     0.375092|\n",
      "|Netherlands|2007|     0.375087|\n",
      "|Netherlands|2008|     0.374991|\n",
      "|Netherlands|2004|     0.374961|\n",
      "|Netherlands|2009|     0.374802|\n",
      "|Netherlands|2003|     0.374665|\n",
      "|Netherlands|2010|     0.374514|\n",
      "|Netherlands|2002|     0.374324|\n",
      "|Netherlands|2001|     0.374019|\n",
      "|Netherlands|2000|     0.373839|\n",
      "|Netherlands|2011|     0.373791|\n",
      "|Netherlands|1999|     0.373747|\n",
      "|Netherlands|1998|     0.373661|\n",
      "|Netherlands|1997|     0.373571|\n",
      "|Netherlands|1996|     0.373494|\n",
      "|Netherlands|1995|     0.373432|\n",
      "|Netherlands|1994|     0.373355|\n",
      "|Netherlands|1993|     0.373262|\n",
      "|Netherlands|1992|     0.373143|\n",
      "|Netherlands|1991|     0.373018|\n",
      "|Netherlands|1990|     0.372879|\n",
      "|Netherlands|2012|     0.372408|\n",
      "|Netherlands|2013|     0.370458|\n",
      "|Netherlands|2014|     0.368015|\n",
      "|  Australia|2005|     0.367078|\n",
      "|  Australia|2006|     0.366969|\n",
      "|  Australia|2004|     0.366824|\n",
      "|  Australia|2007|     0.366635|\n",
      "|  Australia|2003|     0.366274|\n",
      "|  Australia|2008|     0.366204|\n",
      "|  Australia|2009|     0.365813|\n",
      "|  Australia|2002|     0.365602|\n",
      "|  Australia|2010|     0.365598|\n",
      "|  Australia|2011|     0.365464|\n",
      "|  Australia|2012|     0.365245|\n",
      "|Netherlands|2015|     0.365154|\n",
      "|  Australia|2001|     0.364995|\n",
      "|  Australia|2013|     0.364942|\n",
      "|  Australia|2000|     0.364609|\n",
      "|  Australia|2014|     0.364577|\n",
      "|  Australia|1999|     0.364343|\n",
      "|  Australia|2015|     0.364163|\n",
      "|  Australia|1998|      0.36403|\n",
      "|  Australia|2016|     0.363743|\n",
      "|  Australia|1997|     0.363709|\n",
      "|  Australia|1996|     0.363435|\n",
      "|  Australia|2017|     0.363326|\n",
      "|  Australia|1995|     0.363259|\n",
      "|  Australia|1994|     0.363001|\n",
      "+-----------+----+-------------+\n",
      "only showing top 50 rows\n",
      "\n"
     ]
    }
   ],
   "source": [
    "disorder.sort(\"Schizophrenia\", ascending=False).show(50)"
   ]
  },
  {
   "cell_type": "code",
   "execution_count": 30,
   "id": "42a5be78",
   "metadata": {},
   "outputs": [
    {
     "name": "stdout",
     "output_type": "stream",
     "text": [
      "+----+----+---------+--------+------------------+--------------+-----------+----------+-------------------+-----------+\n",
      "|Year| GNP|Inflation|Industry|   Life_expectancy|Fertility_rate| Population| Migration|Political_stability|    Country|\n",
      "+----+----+---------+--------+------------------+--------------+-----------+----------+-------------------+-----------+\n",
      "|1960|null|     null|    null|            32.292|          7.45|  8996351.0|      null|               null|Afghanistan|\n",
      "|1961|null|     null|    null|            32.742|          7.45|  9166764.0|      null|               null|Afghanistan|\n",
      "|1962|null|     null|    null|            33.185|          7.45|  9345868.0|  -20000.0|               null|Afghanistan|\n",
      "|1963|null|     null|    null|            33.624|          7.45|  9533954.0|      null|               null|Afghanistan|\n",
      "|1964|null|     null|    null|             34.06|          7.45|  9731361.0|      null|               null|Afghanistan|\n",
      "|1965|null|     null|    null|            34.495|          7.45|  9938414.0|      null|               null|Afghanistan|\n",
      "|1966|null|     null|    null|34.928000000000004|          7.45|1.0152331E7|      null|               null|Afghanistan|\n",
      "|1967|null|     null|    null|            35.361|          7.45| 1.037263E7|  -20000.0|               null|Afghanistan|\n",
      "|1968|null|     null|    null|            35.796|          7.45|1.0604346E7|      null|               null|Afghanistan|\n",
      "|1969|null|     null|    null|            36.234|          7.45|1.0854428E7|      null|               null|Afghanistan|\n",
      "|1970|null|     null|    null|            36.678|          7.45|1.1126123E7|      null|               null|Afghanistan|\n",
      "|1971|null|     null|    null|            37.128|          7.45|1.1417825E7|      null|               null|Afghanistan|\n",
      "|1972|null|     null|    null|            37.587|          7.45| 1.172194E7|  -20000.0|               null|Afghanistan|\n",
      "|1973|null|     null|    null|            38.056|          7.45|1.2027822E7|      null|               null|Afghanistan|\n",
      "|1974|null|     null|    null|             38.54|          7.45|1.2321541E7|      null|               null|Afghanistan|\n",
      "|1975|null|     null|    null|            39.039|          7.45|1.2590286E7|      null|               null|Afghanistan|\n",
      "|1976|null|     null|    null|            39.556|          7.45|1.2840299E7|      null|               null|Afghanistan|\n",
      "|1977|null|     null|    null|            40.092|         7.449|1.3067538E7|-1092462.0|               null|Afghanistan|\n",
      "|1978|null|     null|    null|             40.65|         7.449|1.3237734E7|      null|               null|Afghanistan|\n",
      "|1979|null|     null|    null|            41.234|         7.449|1.3306695E7|      null|               null|Afghanistan|\n",
      "+----+----+---------+--------+------------------+--------------+-----------+----------+-------------------+-----------+\n",
      "only showing top 20 rows\n",
      "\n"
     ]
    }
   ],
   "source": [
    "# convert data in Year column to Initial Capital\n",
    "demo = demo.select(\"*\", initcap(col('Country'))).drop('Country').withColumnRenamed('initcap(Country)', 'Country')\n",
    "demo.show()"
   ]
  },
  {
   "cell_type": "code",
   "execution_count": 31,
   "id": "051898a4",
   "metadata": {},
   "outputs": [
    {
     "name": "stdout",
     "output_type": "stream",
     "text": [
      "root\n",
      " |-- Country: string (nullable = true)\n",
      " |-- Year: integer (nullable = true)\n",
      " |-- Schizophrenia: double (nullable = true)\n",
      "\n",
      "+-----------+----+-------------+\n",
      "|    Country|Year|Schizophrenia|\n",
      "+-----------+----+-------------+\n",
      "|Afghanistan|1990|      0.16056|\n",
      "|Afghanistan|1991|     0.160312|\n",
      "|Afghanistan|1992|     0.160135|\n",
      "|Afghanistan|1993|     0.160037|\n",
      "|Afghanistan|1994|     0.160022|\n",
      "|Afghanistan|1995|     0.160076|\n",
      "|Afghanistan|1996|     0.160249|\n",
      "|Afghanistan|1997|     0.160554|\n",
      "|Afghanistan|1998|     0.160931|\n",
      "|Afghanistan|1999|     0.161311|\n",
      "|Afghanistan|2000|     0.161621|\n",
      "|Afghanistan|2001|     0.161957|\n",
      "|Afghanistan|2002|     0.162414|\n",
      "|Afghanistan|2003|     0.162916|\n",
      "|Afghanistan|2004|     0.163377|\n",
      "|Afghanistan|2005|     0.163706|\n",
      "|Afghanistan|2006|     0.163977|\n",
      "|Afghanistan|2007|     0.164302|\n",
      "|Afghanistan|2008|     0.164639|\n",
      "|Afghanistan|2009|     0.164932|\n",
      "+-----------+----+-------------+\n",
      "only showing top 20 rows\n",
      "\n"
     ]
    }
   ],
   "source": [
    "# remove strings in Year column and convert the column to Integer\n",
    "from pyspark.sql.functions import regexp_replace, col\n",
    "from pyspark.sql.types import IntegerType\n",
    "disorder = disorder.withColumn('Year', regexp_replace(col('Year'), \"[a-zA-Z]+\", \"\"))\n",
    "disorder = disorder.withColumn('Year', col('Year').cast(IntegerType()))\n",
    "disorder.printSchema()\n",
    "disorder.show()"
   ]
  },
  {
   "cell_type": "code",
   "execution_count": 32,
   "id": "bbbf6e36",
   "metadata": {},
   "outputs": [
    {
     "name": "stdout",
     "output_type": "stream",
     "text": [
      "root\n",
      " |-- Country: string (nullable = true)\n",
      " |-- Year: integer (nullable = true)\n",
      " |-- Schizophrenia: double (nullable = true)\n",
      " |-- GNP: double (nullable = true)\n",
      " |-- Inflation: double (nullable = true)\n",
      " |-- Industry: double (nullable = true)\n",
      " |-- Life_expectancy: double (nullable = true)\n",
      " |-- Fertility_rate: double (nullable = true)\n",
      " |-- Population: double (nullable = true)\n",
      " |-- Migration: double (nullable = true)\n",
      " |-- Political_stability: double (nullable = true)\n",
      " |-- Life_ladder: double (nullable = true)\n",
      " |-- GDP: double (nullable = true)\n",
      " |-- Social_support: double (nullable = true)\n",
      " |-- Healthy_life_expectancy: double (nullable = true)\n",
      " |-- Freedom: double (nullable = true)\n",
      " |-- Generosity: double (nullable = true)\n",
      " |-- Corruption: double (nullable = true)\n",
      " |-- Positive_affect: double (nullable = true)\n",
      " |-- Negative_affect: double (nullable = true)\n",
      " |-- Confidence_in_government: double (nullable = true)\n",
      "\n"
     ]
    }
   ],
   "source": [
    "# merge the three datasets\n",
    "dis_demo = disorder.join(demo, on=[\"Country\", \"Year\"], how=\"inner\")\n",
    "data = dis_demo.join(happy, on=[\"Country\", \"Year\"], how=\"inner\")\n",
    "data.printSchema()"
   ]
  },
  {
   "cell_type": "code",
   "execution_count": 33,
   "id": "0ba41bb7",
   "metadata": {},
   "outputs": [
    {
     "name": "stdout",
     "output_type": "stream",
     "text": [
      "root\n",
      " |-- Country: string (nullable = true)\n",
      " |-- Year: integer (nullable = true)\n",
      " |-- Schizophrenia: double (nullable = true)\n",
      " |-- Inflation: double (nullable = true)\n",
      " |-- Industry: double (nullable = true)\n",
      " |-- Fertility_rate: double (nullable = true)\n",
      " |-- Population: double (nullable = true)\n",
      " |-- Migration: double (nullable = true)\n",
      " |-- Political_stability: double (nullable = true)\n",
      " |-- Life_ladder: double (nullable = true)\n",
      " |-- GDP: double (nullable = true)\n",
      " |-- Social_support: double (nullable = true)\n",
      " |-- Healthy_life_expectancy: double (nullable = true)\n",
      " |-- Freedom: double (nullable = true)\n",
      " |-- Generosity: double (nullable = true)\n",
      " |-- Corruption: double (nullable = true)\n",
      " |-- Positive_affect: double (nullable = true)\n",
      " |-- Negative_affect: double (nullable = true)\n",
      " |-- Confidence_in_government: double (nullable = true)\n",
      "\n"
     ]
    }
   ],
   "source": [
    "data = data.drop('GNP','Life_expectancy')\n",
    "data.printSchema()"
   ]
  },
  {
   "cell_type": "code",
   "execution_count": 34,
   "id": "47cad5e1",
   "metadata": {},
   "outputs": [
    {
     "name": "stderr",
     "output_type": "stream",
     "text": [
      "                                                                                \r"
     ]
    },
    {
     "data": {
      "text/plain": [
       "<AxesSubplot:>"
      ]
     },
     "execution_count": 34,
     "metadata": {},
     "output_type": "execute_result"
    },
    {
     "data": {
      "image/png": "[encoded data removed]",
      "text/plain": [
       "<Figure size 1008x432 with 1 Axes>"
      ]
     },
     "metadata": {
      "needs_background": "light"
     },
     "output_type": "display_data"
    }
   ],
   "source": [
    "# count the number of records in each column to see the missing values\n",
    "import pandas as pd\n",
    "import matplotlib.pyplot as plt\n",
    "count = data.describe().toPandas().iloc[0].drop('summary').astype(int)\n",
    "count.plot.bar(rot=45, figsize = (14, 6))"
   ]
  },
  {
   "cell_type": "code",
   "execution_count": 35,
   "id": "b92b61e5",
   "metadata": {},
   "outputs": [
    {
     "name": "stdout",
     "output_type": "stream",
     "text": [
      "root\n",
      " |-- Country: string (nullable = true)\n",
      " |-- Year: integer (nullable = true)\n",
      " |-- Schizophrenia: double (nullable = true)\n",
      " |-- Inflation: double (nullable = true)\n",
      " |-- Fertility_rate: double (nullable = true)\n",
      " |-- Population: double (nullable = true)\n",
      " |-- Political_stability: double (nullable = true)\n",
      " |-- Life_ladder: double (nullable = true)\n",
      " |-- GDP: double (nullable = true)\n",
      " |-- Social_support: double (nullable = true)\n",
      " |-- Healthy_life_expectancy: double (nullable = true)\n",
      " |-- Freedom: double (nullable = true)\n",
      " |-- Generosity: double (nullable = true)\n",
      " |-- Corruption: double (nullable = true)\n",
      " |-- Positive_affect: double (nullable = true)\n",
      " |-- Negative_affect: double (nullable = true)\n",
      " |-- Confidence_in_government: double (nullable = true)\n",
      "\n"
     ]
    }
   ],
   "source": [
    "data = data.drop('Industry', 'Migration')\n",
    "data.printSchema()"
   ]
  },
  {
   "cell_type": "code",
   "execution_count": 36,
   "id": "bb443a6f",
   "metadata": {},
   "outputs": [
    {
     "name": "stderr",
     "output_type": "stream",
     "text": [
      "                                                                                \r"
     ]
    },
    {
     "data": {
      "text/plain": [
       "<AxesSubplot:>"
      ]
     },
     "execution_count": 36,
     "metadata": {},
     "output_type": "execute_result"
    },
    {
     "data": {
      "image/png": "[encoded data removed]",
      "text/plain": [
       "<Figure size 1008x432 with 1 Axes>"
      ]
     },
     "metadata": {
      "needs_background": "light"
     },
     "output_type": "display_data"
    }
   ],
   "source": [
    "count = data.describe().toPandas().iloc[0].drop('summary').astype(int)\n",
    "count.plot.bar(rot=45, figsize = (14, 6))"
   ]
  },
  {
   "cell_type": "code",
   "execution_count": 37,
   "id": "26976234",
   "metadata": {},
   "outputs": [
    {
     "data": {
      "text/plain": [
       "<AxesSubplot:>"
      ]
     },
     "execution_count": 37,
     "metadata": {},
     "output_type": "execute_result"
    },
    {
     "data": {
      "image/png": "[encoded data removed]",
      "text/plain": [
       "<Figure size 1800x720 with 2 Axes>"
      ]
     },
     "metadata": {
      "needs_background": "light"
     },
     "output_type": "display_data"
    }
   ],
   "source": [
    "# check the distribution of missing values\n",
    "import missingno as msno\n",
    "msno.matrix(data.toPandas())"
   ]
  },
  {
   "cell_type": "code",
   "execution_count": 38,
   "id": "1d0dfbcf",
   "metadata": {},
   "outputs": [
    {
     "data": {
      "text/plain": [
       "<AxesSubplot:>"
      ]
     },
     "execution_count": 38,
     "metadata": {},
     "output_type": "execute_result"
    },
    {
     "data": {
      "image/png": "[encoded data removed]",
      "text/plain": [
       "<Figure size 1800x720 with 2 Axes>"
      ]
     },
     "metadata": {
      "needs_background": "light"
     },
     "output_type": "display_data"
    }
   ],
   "source": [
    "# calculate the mean value of each columns and impute the missing value with mean \n",
    "from pyspark.sql.functions import mean\n",
    "data = data.fillna(data.select(mean('Schizophrenia')).collect()[0][0], subset=['Schizophrenia'])\n",
    "data = data.fillna(data.select(mean('Inflation')).collect()[0][0], subset=['Inflation'])\n",
    "data = data.fillna(data.select(mean('Fertility_rate')).collect()[0][0], subset=['Fertility_rate'])\n",
    "data = data.fillna(data.select(mean('Population')).collect()[0][0], subset=['Population'])\n",
    "data = data.fillna(data.select(mean('Political_stability')).collect()[0][0], subset=['Political_stability'])\n",
    "data = data.fillna(data.select(mean('Social_support')).collect()[0][0], subset=['Social_support'])\n",
    "data = data.fillna(data.select(mean('Freedom')).collect()[0][0], subset=['Freedom'])\n",
    "data = data.fillna(data.select(mean('Generosity')).collect()[0][0], subset=['Generosity'])\n",
    "data = data.fillna(data.select(mean('Corruption')).collect()[0][0], subset=['Corruption'])\n",
    "data = data.fillna(data.select(mean('Positive_affect')).collect()[0][0], subset=['Positive_affect'])\n",
    "data = data.fillna(data.select(mean('Confidence_in_government')).collect()[0][0], subset=['Confidence_in_government'])\n",
    "data = data.fillna(data.select(mean('GDP')).collect()[0][0], subset=['GDP'])\n",
    "data = data.fillna(data.select(mean('Negative_affect')).collect()[0][0], subset=['Negative_affect'])\n",
    "msno.matrix(data.toPandas())"
   ]
  },
  {
   "cell_type": "code",
   "execution_count": 39,
   "id": "2642191a",
   "metadata": {},
   "outputs": [],
   "source": [
    "data = data.toPandas()"
   ]
  },
  {
   "cell_type": "code",
   "execution_count": 40,
   "id": "45a966e6",
   "metadata": {},
   "outputs": [
    {
     "data": {
      "text/plain": [
       "<AxesSubplot:>"
      ]
     },
     "execution_count": 40,
     "metadata": {},
     "output_type": "execute_result"
    },
    {
     "data": {
      "image/png": "[encoded data removed]",
      "text/plain": [
       "<Figure size 1008x432 with 1 Axes>"
      ]
     },
     "metadata": {
      "needs_background": "light"
     },
     "output_type": "display_data"
    }
   ],
   "source": [
    "# boxplot\n",
    "data['Schizophrenia'].plot.box(rot=45, figsize = (14, 6))"
   ]
  },
  {
   "cell_type": "code",
   "execution_count": 41,
   "id": "d39b5307",
   "metadata": {},
   "outputs": [
    {
     "data": {
      "text/plain": [
       "<AxesSubplot:>"
      ]
     },
     "execution_count": 41,
     "metadata": {},
     "output_type": "execute_result"
    },
    {
     "data": {
      "image/png": "[encoded data removed]",
      "text/plain": [
       "<Figure size 1008x432 with 1 Axes>"
      ]
     },
     "metadata": {
      "needs_background": "light"
     },
     "output_type": "display_data"
    }
   ],
   "source": [
    "data['Inflation'].plot.box(rot=45, figsize = (14, 6))"
   ]
  },
  {
   "cell_type": "code",
   "execution_count": 42,
   "id": "e5c7a2c5",
   "metadata": {},
   "outputs": [
    {
     "data": {
      "text/plain": [
       "<AxesSubplot:>"
      ]
     },
     "execution_count": 42,
     "metadata": {},
     "output_type": "execute_result"
    },
    {
     "data": {
      "image/png": "[encoded data removed]",
      "text/plain": [
       "<Figure size 1008x432 with 1 Axes>"
      ]
     },
     "metadata": {
      "needs_background": "light"
     },
     "output_type": "display_data"
    }
   ],
   "source": [
    "data['Population'].plot.box(rot=45, figsize = (14, 6))"
   ]
  },
  {
   "cell_type": "code",
   "execution_count": 43,
   "id": "495e94f7",
   "metadata": {},
   "outputs": [
    {
     "data": {
      "text/plain": [
       "<AxesSubplot:>"
      ]
     },
     "execution_count": 43,
     "metadata": {},
     "output_type": "execute_result"
    },
    {
     "data": {
      "image/png": "[encoded data removed]",
      "text/plain": [
       "<Figure size 1008x432 with 1 Axes>"
      ]
     },
     "metadata": {
      "needs_background": "light"
     },
     "output_type": "display_data"
    }
   ],
   "source": [
    "data['Political_stability'].plot.box(rot=45, figsize = (14, 6))"
   ]
  },
  {
   "cell_type": "code",
   "execution_count": 44,
   "id": "fc30cb66",
   "metadata": {},
   "outputs": [
    {
     "data": {
      "text/plain": [
       "<AxesSubplot:>"
      ]
     },
     "execution_count": 44,
     "metadata": {},
     "output_type": "execute_result"
    },
    {
     "data": {
      "image/png": "[encoded data removed]",
      "text/plain": [
       "<Figure size 1008x432 with 1 Axes>"
      ]
     },
     "metadata": {
      "needs_background": "light"
     },
     "output_type": "display_data"
    }
   ],
   "source": [
    "data['Social_support'].plot.box(rot=45, figsize = (14, 6))"
   ]
  },
  {
   "cell_type": "code",
   "execution_count": 45,
   "id": "a85f38fb",
   "metadata": {},
   "outputs": [
    {
     "data": {
      "text/plain": [
       "<AxesSubplot:>"
      ]
     },
     "execution_count": 45,
     "metadata": {},
     "output_type": "execute_result"
    },
    {
     "data": {
      "image/png": "[encoded data removed]",
      "text/plain": [
       "<Figure size 1008x432 with 1 Axes>"
      ]
     },
     "metadata": {
      "needs_background": "light"
     },
     "output_type": "display_data"
    }
   ],
   "source": [
    "data['Healthy_life_expectancy'].plot.box(rot=45, figsize = (14, 6))"
   ]
  },
  {
   "cell_type": "code",
   "execution_count": 46,
   "id": "39d7d5f0",
   "metadata": {},
   "outputs": [
    {
     "data": {
      "text/plain": [
       "<AxesSubplot:>"
      ]
     },
     "execution_count": 46,
     "metadata": {},
     "output_type": "execute_result"
    },
    {
     "data": {
      "image/png": "[encoded data removed]",
      "text/plain": [
       "<Figure size 1008x432 with 1 Axes>"
      ]
     },
     "metadata": {
      "needs_background": "light"
     },
     "output_type": "display_data"
    }
   ],
   "source": [
    "data['Freedom'].plot.box(rot=45, figsize = (14, 6))"
   ]
  },
  {
   "cell_type": "code",
   "execution_count": 47,
   "id": "58ab604f",
   "metadata": {},
   "outputs": [
    {
     "data": {
      "text/html": [
       "<div>\n",
       "<style scoped>\n",
       "    .dataframe tbody tr th:only-of-type {\n",
       "        vertical-align: middle;\n",
       "    }\n",
       "\n",
       "    .dataframe tbody tr th {\n",
       "        vertical-align: top;\n",
       "    }\n",
       "\n",
       "    .dataframe thead th {\n",
       "        text-align: right;\n",
       "    }\n",
       "</style>\n",
       "<table border=\"1\" class=\"dataframe\">\n",
       "  <thead>\n",
       "    <tr style=\"text-align: right;\">\n",
       "      <th></th>\n",
       "      <th>Country</th>\n",
       "      <th>Year</th>\n",
       "      <th>Schizophrenia</th>\n",
       "      <th>Inflation</th>\n",
       "      <th>Fertility_rate</th>\n",
       "      <th>Population</th>\n",
       "      <th>Political_stability</th>\n",
       "      <th>Life_ladder</th>\n",
       "      <th>GDP</th>\n",
       "      <th>Social_support</th>\n",
       "      <th>Healthy_life_expectancy</th>\n",
       "      <th>Freedom</th>\n",
       "      <th>Generosity</th>\n",
       "      <th>Corruption</th>\n",
       "      <th>Positive_affect</th>\n",
       "      <th>Negative_affect</th>\n",
       "      <th>Confidence_in_government</th>\n",
       "    </tr>\n",
       "  </thead>\n",
       "  <tbody>\n",
       "    <tr>\n",
       "      <th>0</th>\n",
       "      <td>Afghanistan</td>\n",
       "      <td>2008</td>\n",
       "      <td>0.164639</td>\n",
       "      <td>2.179103</td>\n",
       "      <td>6.25400</td>\n",
       "      <td>27294031.0</td>\n",
       "      <td>0.00000</td>\n",
       "      <td>3.723590</td>\n",
       "      <td>7.350416</td>\n",
       "      <td>0.450662</td>\n",
       "      <td>50.500000</td>\n",
       "      <td>0.718114</td>\n",
       "      <td>0.167652</td>\n",
       "      <td>0.881686</td>\n",
       "      <td>0.414297</td>\n",
       "      <td>0.258195</td>\n",
       "      <td>0.612072</td>\n",
       "    </tr>\n",
       "    <tr>\n",
       "      <th>1</th>\n",
       "      <td>Afghanistan</td>\n",
       "      <td>2009</td>\n",
       "      <td>0.164932</td>\n",
       "      <td>-2.107083</td>\n",
       "      <td>6.03800</td>\n",
       "      <td>28004331.0</td>\n",
       "      <td>0.00000</td>\n",
       "      <td>4.401778</td>\n",
       "      <td>7.508646</td>\n",
       "      <td>0.552308</td>\n",
       "      <td>50.799999</td>\n",
       "      <td>0.678896</td>\n",
       "      <td>0.190809</td>\n",
       "      <td>0.850035</td>\n",
       "      <td>0.481421</td>\n",
       "      <td>0.237092</td>\n",
       "      <td>0.611545</td>\n",
       "    </tr>\n",
       "    <tr>\n",
       "      <th>2</th>\n",
       "      <td>Afghanistan</td>\n",
       "      <td>2010</td>\n",
       "      <td>0.165130</td>\n",
       "      <td>9.437795</td>\n",
       "      <td>5.81600</td>\n",
       "      <td>28803167.0</td>\n",
       "      <td>0.00000</td>\n",
       "      <td>4.758381</td>\n",
       "      <td>7.613900</td>\n",
       "      <td>0.539075</td>\n",
       "      <td>51.099998</td>\n",
       "      <td>0.600127</td>\n",
       "      <td>0.121316</td>\n",
       "      <td>0.706766</td>\n",
       "      <td>0.516907</td>\n",
       "      <td>0.275324</td>\n",
       "      <td>0.299357</td>\n",
       "    </tr>\n",
       "    <tr>\n",
       "      <th>3</th>\n",
       "      <td>Afghanistan</td>\n",
       "      <td>2011</td>\n",
       "      <td>0.165272</td>\n",
       "      <td>10.561139</td>\n",
       "      <td>5.59500</td>\n",
       "      <td>29708599.0</td>\n",
       "      <td>0.00000</td>\n",
       "      <td>3.831719</td>\n",
       "      <td>7.581259</td>\n",
       "      <td>0.521104</td>\n",
       "      <td>51.400002</td>\n",
       "      <td>0.495901</td>\n",
       "      <td>0.163571</td>\n",
       "      <td>0.731109</td>\n",
       "      <td>0.479835</td>\n",
       "      <td>0.267175</td>\n",
       "      <td>0.307386</td>\n",
       "    </tr>\n",
       "    <tr>\n",
       "      <th>4</th>\n",
       "      <td>Afghanistan</td>\n",
       "      <td>2012</td>\n",
       "      <td>0.165424</td>\n",
       "      <td>8.304761</td>\n",
       "      <td>5.38000</td>\n",
       "      <td>30696958.0</td>\n",
       "      <td>0.00000</td>\n",
       "      <td>3.782938</td>\n",
       "      <td>7.660506</td>\n",
       "      <td>0.520637</td>\n",
       "      <td>51.700001</td>\n",
       "      <td>0.530935</td>\n",
       "      <td>0.237588</td>\n",
       "      <td>0.775620</td>\n",
       "      <td>0.613513</td>\n",
       "      <td>0.267919</td>\n",
       "      <td>0.435440</td>\n",
       "    </tr>\n",
       "    <tr>\n",
       "      <th>...</th>\n",
       "      <td>...</td>\n",
       "      <td>...</td>\n",
       "      <td>...</td>\n",
       "      <td>...</td>\n",
       "      <td>...</td>\n",
       "      <td>...</td>\n",
       "      <td>...</td>\n",
       "      <td>...</td>\n",
       "      <td>...</td>\n",
       "      <td>...</td>\n",
       "      <td>...</td>\n",
       "      <td>...</td>\n",
       "      <td>...</td>\n",
       "      <td>...</td>\n",
       "      <td>...</td>\n",
       "      <td>...</td>\n",
       "      <td>...</td>\n",
       "    </tr>\n",
       "    <tr>\n",
       "      <th>1333</th>\n",
       "      <td>Zimbabwe</td>\n",
       "      <td>2013</td>\n",
       "      <td>0.155670</td>\n",
       "      <td>2.805702</td>\n",
       "      <td>3.95700</td>\n",
       "      <td>15054506.0</td>\n",
       "      <td>17.06161</td>\n",
       "      <td>4.690188</td>\n",
       "      <td>7.755187</td>\n",
       "      <td>0.799274</td>\n",
       "      <td>48.799999</td>\n",
       "      <td>0.575884</td>\n",
       "      <td>-0.089405</td>\n",
       "      <td>0.830937</td>\n",
       "      <td>0.623596</td>\n",
       "      <td>0.182288</td>\n",
       "      <td>0.527755</td>\n",
       "    </tr>\n",
       "    <tr>\n",
       "      <th>1334</th>\n",
       "      <td>Zimbabwe</td>\n",
       "      <td>2014</td>\n",
       "      <td>0.155993</td>\n",
       "      <td>0.700921</td>\n",
       "      <td>3.90300</td>\n",
       "      <td>15411675.0</td>\n",
       "      <td>13.33333</td>\n",
       "      <td>4.184451</td>\n",
       "      <td>7.748009</td>\n",
       "      <td>0.765839</td>\n",
       "      <td>50.000000</td>\n",
       "      <td>0.642034</td>\n",
       "      <td>-0.058242</td>\n",
       "      <td>0.820217</td>\n",
       "      <td>0.661307</td>\n",
       "      <td>0.239111</td>\n",
       "      <td>0.566209</td>\n",
       "    </tr>\n",
       "    <tr>\n",
       "      <th>1335</th>\n",
       "      <td>Zimbabwe</td>\n",
       "      <td>2015</td>\n",
       "      <td>0.156465</td>\n",
       "      <td>0.898072</td>\n",
       "      <td>3.83600</td>\n",
       "      <td>15777451.0</td>\n",
       "      <td>16.66667</td>\n",
       "      <td>3.703191</td>\n",
       "      <td>7.746680</td>\n",
       "      <td>0.735800</td>\n",
       "      <td>51.200001</td>\n",
       "      <td>0.667193</td>\n",
       "      <td>-0.107365</td>\n",
       "      <td>0.810457</td>\n",
       "      <td>0.639002</td>\n",
       "      <td>0.178861</td>\n",
       "      <td>0.590012</td>\n",
       "    </tr>\n",
       "    <tr>\n",
       "      <th>1336</th>\n",
       "      <td>Zimbabwe</td>\n",
       "      <td>2016</td>\n",
       "      <td>0.157111</td>\n",
       "      <td>1.309977</td>\n",
       "      <td>3.76000</td>\n",
       "      <td>16150362.0</td>\n",
       "      <td>14.28571</td>\n",
       "      <td>3.735400</td>\n",
       "      <td>7.734831</td>\n",
       "      <td>0.768425</td>\n",
       "      <td>51.674999</td>\n",
       "      <td>0.732971</td>\n",
       "      <td>-0.078541</td>\n",
       "      <td>0.723612</td>\n",
       "      <td>0.685256</td>\n",
       "      <td>0.208555</td>\n",
       "      <td>0.699344</td>\n",
       "    </tr>\n",
       "    <tr>\n",
       "      <th>1337</th>\n",
       "      <td>Zimbabwe</td>\n",
       "      <td>2017</td>\n",
       "      <td>0.157963</td>\n",
       "      <td>3.797826</td>\n",
       "      <td>2.79007</td>\n",
       "      <td>16529904.0</td>\n",
       "      <td>11.42857</td>\n",
       "      <td>3.638300</td>\n",
       "      <td>7.754387</td>\n",
       "      <td>0.754147</td>\n",
       "      <td>52.150002</td>\n",
       "      <td>0.752826</td>\n",
       "      <td>-0.080725</td>\n",
       "      <td>0.751208</td>\n",
       "      <td>0.733641</td>\n",
       "      <td>0.224051</td>\n",
       "      <td>0.682647</td>\n",
       "    </tr>\n",
       "  </tbody>\n",
       "</table>\n",
       "<p>1338 rows × 17 columns</p>\n",
       "</div>"
      ],
      "text/plain": [
       "          Country  Year  Schizophrenia  Inflation  Fertility_rate  Population  \\\n",
       "0     Afghanistan  2008       0.164639   2.179103         6.25400  27294031.0   \n",
       "1     Afghanistan  2009       0.164932  -2.107083         6.03800  28004331.0   \n",
       "2     Afghanistan  2010       0.165130   9.437795         5.81600  28803167.0   \n",
       "3     Afghanistan  2011       0.165272  10.561139         5.59500  29708599.0   \n",
       "4     Afghanistan  2012       0.165424   8.304761         5.38000  30696958.0   \n",
       "...           ...   ...            ...        ...             ...         ...   \n",
       "1333     Zimbabwe  2013       0.155670   2.805702         3.95700  15054506.0   \n",
       "1334     Zimbabwe  2014       0.155993   0.700921         3.90300  15411675.0   \n",
       "1335     Zimbabwe  2015       0.156465   0.898072         3.83600  15777451.0   \n",
       "1336     Zimbabwe  2016       0.157111   1.309977         3.76000  16150362.0   \n",
       "1337     Zimbabwe  2017       0.157963   3.797826         2.79007  16529904.0   \n",
       "\n",
       "      Political_stability  Life_ladder       GDP  Social_support  \\\n",
       "0                 0.00000     3.723590  7.350416        0.450662   \n",
       "1                 0.00000     4.401778  7.508646        0.552308   \n",
       "2                 0.00000     4.758381  7.613900        0.539075   \n",
       "3                 0.00000     3.831719  7.581259        0.521104   \n",
       "4                 0.00000     3.782938  7.660506        0.520637   \n",
       "...                   ...          ...       ...             ...   \n",
       "1333             17.06161     4.690188  7.755187        0.799274   \n",
       "1334             13.33333     4.184451  7.748009        0.765839   \n",
       "1335             16.66667     3.703191  7.746680        0.735800   \n",
       "1336             14.28571     3.735400  7.734831        0.768425   \n",
       "1337             11.42857     3.638300  7.754387        0.754147   \n",
       "\n",
       "      Healthy_life_expectancy   Freedom  Generosity  Corruption  \\\n",
       "0                   50.500000  0.718114    0.167652    0.881686   \n",
       "1                   50.799999  0.678896    0.190809    0.850035   \n",
       "2                   51.099998  0.600127    0.121316    0.706766   \n",
       "3                   51.400002  0.495901    0.163571    0.731109   \n",
       "4                   51.700001  0.530935    0.237588    0.775620   \n",
       "...                       ...       ...         ...         ...   \n",
       "1333                48.799999  0.575884   -0.089405    0.830937   \n",
       "1334                50.000000  0.642034   -0.058242    0.820217   \n",
       "1335                51.200001  0.667193   -0.107365    0.810457   \n",
       "1336                51.674999  0.732971   -0.078541    0.723612   \n",
       "1337                52.150002  0.752826   -0.080725    0.751208   \n",
       "\n",
       "      Positive_affect  Negative_affect  Confidence_in_government  \n",
       "0            0.414297         0.258195                  0.612072  \n",
       "1            0.481421         0.237092                  0.611545  \n",
       "2            0.516907         0.275324                  0.299357  \n",
       "3            0.479835         0.267175                  0.307386  \n",
       "4            0.613513         0.267919                  0.435440  \n",
       "...               ...              ...                       ...  \n",
       "1333         0.623596         0.182288                  0.527755  \n",
       "1334         0.661307         0.239111                  0.566209  \n",
       "1335         0.639002         0.178861                  0.590012  \n",
       "1336         0.685256         0.208555                  0.699344  \n",
       "1337         0.733641         0.224051                  0.682647  \n",
       "\n",
       "[1338 rows x 17 columns]"
      ]
     },
     "execution_count": 47,
     "metadata": {},
     "output_type": "execute_result"
    }
   ],
   "source": [
    "data"
   ]
  },
  {
   "cell_type": "code",
   "execution_count": 48,
   "id": "ae67fe19",
   "metadata": {},
   "outputs": [
    {
     "data": {
      "text/html": [
       "<div>\n",
       "<style scoped>\n",
       "    .dataframe tbody tr th:only-of-type {\n",
       "        vertical-align: middle;\n",
       "    }\n",
       "\n",
       "    .dataframe tbody tr th {\n",
       "        vertical-align: top;\n",
       "    }\n",
       "\n",
       "    .dataframe thead th {\n",
       "        text-align: right;\n",
       "    }\n",
       "</style>\n",
       "<table border=\"1\" class=\"dataframe\">\n",
       "  <thead>\n",
       "    <tr style=\"text-align: right;\">\n",
       "      <th></th>\n",
       "      <th>Schizophrenia</th>\n",
       "      <th>Inflation</th>\n",
       "      <th>Fertility_rate</th>\n",
       "      <th>Population</th>\n",
       "      <th>Political_stability</th>\n",
       "      <th>Life_ladder</th>\n",
       "      <th>GDP</th>\n",
       "      <th>Social_support</th>\n",
       "      <th>Healthy_life_expectancy</th>\n",
       "      <th>Freedom</th>\n",
       "      <th>Generosity</th>\n",
       "      <th>Corruption</th>\n",
       "      <th>Positive_affect</th>\n",
       "      <th>Negative_affect</th>\n",
       "      <th>Confidence_in_government</th>\n",
       "    </tr>\n",
       "    <tr>\n",
       "      <th>Country</th>\n",
       "      <th></th>\n",
       "      <th></th>\n",
       "      <th></th>\n",
       "      <th></th>\n",
       "      <th></th>\n",
       "      <th></th>\n",
       "      <th></th>\n",
       "      <th></th>\n",
       "      <th></th>\n",
       "      <th></th>\n",
       "      <th></th>\n",
       "      <th></th>\n",
       "      <th></th>\n",
       "      <th></th>\n",
       "      <th></th>\n",
       "    </tr>\n",
       "  </thead>\n",
       "  <tbody>\n",
       "    <tr>\n",
       "      <th>Afghanistan</th>\n",
       "      <td>0.165481</td>\n",
       "      <td>4.527821</td>\n",
       "      <td>5.146507</td>\n",
       "      <td>3.129194e+07</td>\n",
       "      <td>0.000000</td>\n",
       "      <td>3.806614</td>\n",
       "      <td>7.601773</td>\n",
       "      <td>0.517146</td>\n",
       "      <td>51.857500</td>\n",
       "      <td>0.544895</td>\n",
       "      <td>0.105552</td>\n",
       "      <td>0.826794</td>\n",
       "      <td>0.497312</td>\n",
       "      <td>0.301283</td>\n",
       "      <td>0.400442</td>\n",
       "    </tr>\n",
       "    <tr>\n",
       "      <th>Albania</th>\n",
       "      <td>0.199833</td>\n",
       "      <td>1.713365</td>\n",
       "      <td>1.794707</td>\n",
       "      <td>2.903061e+06</td>\n",
       "      <td>36.299245</td>\n",
       "      <td>4.988791</td>\n",
       "      <td>9.323349</td>\n",
       "      <td>0.723204</td>\n",
       "      <td>68.195501</td>\n",
       "      <td>0.626155</td>\n",
       "      <td>-0.100680</td>\n",
       "      <td>0.859691</td>\n",
       "      <td>0.555569</td>\n",
       "      <td>0.303256</td>\n",
       "      <td>0.432327</td>\n",
       "    </tr>\n",
       "    <tr>\n",
       "      <th>Algeria</th>\n",
       "      <td>0.197471</td>\n",
       "      <td>8.200652</td>\n",
       "      <td>2.867678</td>\n",
       "      <td>3.859009e+07</td>\n",
       "      <td>6.971714</td>\n",
       "      <td>5.555004</td>\n",
       "      <td>9.344610</td>\n",
       "      <td>0.806064</td>\n",
       "      <td>65.833332</td>\n",
       "      <td>0.604431</td>\n",
       "      <td>-0.122898</td>\n",
       "      <td>0.689387</td>\n",
       "      <td>0.563510</td>\n",
       "      <td>0.264745</td>\n",
       "      <td>0.485063</td>\n",
       "    </tr>\n",
       "    <tr>\n",
       "      <th>Angola</th>\n",
       "      <td>0.171298</td>\n",
       "      <td>8.077668</td>\n",
       "      <td>5.960750</td>\n",
       "      <td>2.555838e+07</td>\n",
       "      <td>21.828592</td>\n",
       "      <td>4.420299</td>\n",
       "      <td>8.985655</td>\n",
       "      <td>0.737973</td>\n",
       "      <td>52.150001</td>\n",
       "      <td>0.455957</td>\n",
       "      <td>-0.090508</td>\n",
       "      <td>0.867018</td>\n",
       "      <td>0.625734</td>\n",
       "      <td>0.351173</td>\n",
       "      <td>0.397389</td>\n",
       "    </tr>\n",
       "    <tr>\n",
       "      <th>Argentina</th>\n",
       "      <td>0.197575</td>\n",
       "      <td>24.199908</td>\n",
       "      <td>2.395506</td>\n",
       "      <td>4.189551e+07</td>\n",
       "      <td>34.361074</td>\n",
       "      <td>6.406131</td>\n",
       "      <td>10.050591</td>\n",
       "      <td>0.906080</td>\n",
       "      <td>66.462500</td>\n",
       "      <td>0.753122</td>\n",
       "      <td>-0.157877</td>\n",
       "      <td>0.844038</td>\n",
       "      <td>0.750714</td>\n",
       "      <td>0.273187</td>\n",
       "      <td>0.400587</td>\n",
       "    </tr>\n",
       "    <tr>\n",
       "      <th>...</th>\n",
       "      <td>...</td>\n",
       "      <td>...</td>\n",
       "      <td>...</td>\n",
       "      <td>...</td>\n",
       "      <td>...</td>\n",
       "      <td>...</td>\n",
       "      <td>...</td>\n",
       "      <td>...</td>\n",
       "      <td>...</td>\n",
       "      <td>...</td>\n",
       "      <td>...</td>\n",
       "      <td>...</td>\n",
       "      <td>...</td>\n",
       "      <td>...</td>\n",
       "      <td>...</td>\n",
       "    </tr>\n",
       "    <tr>\n",
       "      <th>Uruguay</th>\n",
       "      <td>0.197493</td>\n",
       "      <td>7.675716</td>\n",
       "      <td>2.125423</td>\n",
       "      <td>3.391753e+06</td>\n",
       "      <td>62.725797</td>\n",
       "      <td>6.220598</td>\n",
       "      <td>9.893740</td>\n",
       "      <td>0.896942</td>\n",
       "      <td>67.199999</td>\n",
       "      <td>0.856150</td>\n",
       "      <td>-0.094844</td>\n",
       "      <td>0.580815</td>\n",
       "      <td>0.730869</td>\n",
       "      <td>0.263640</td>\n",
       "      <td>0.579989</td>\n",
       "    </tr>\n",
       "    <tr>\n",
       "      <th>Uzbekistan</th>\n",
       "      <td>0.185795</td>\n",
       "      <td>16.114275</td>\n",
       "      <td>2.442825</td>\n",
       "      <td>2.961542e+07</td>\n",
       "      <td>16.296689</td>\n",
       "      <td>5.721216</td>\n",
       "      <td>8.596716</td>\n",
       "      <td>0.930260</td>\n",
       "      <td>62.774545</td>\n",
       "      <td>0.890654</td>\n",
       "      <td>0.046385</td>\n",
       "      <td>0.556308</td>\n",
       "      <td>0.692250</td>\n",
       "      <td>0.147519</td>\n",
       "      <td>0.654851</td>\n",
       "    </tr>\n",
       "    <tr>\n",
       "      <th>Vietnam</th>\n",
       "      <td>0.240101</td>\n",
       "      <td>8.734743</td>\n",
       "      <td>2.012339</td>\n",
       "      <td>9.011188e+07</td>\n",
       "      <td>39.295347</td>\n",
       "      <td>5.293268</td>\n",
       "      <td>8.826811</td>\n",
       "      <td>0.826035</td>\n",
       "      <td>64.625000</td>\n",
       "      <td>0.838983</td>\n",
       "      <td>-0.000005</td>\n",
       "      <td>0.769337</td>\n",
       "      <td>0.598848</td>\n",
       "      <td>0.214098</td>\n",
       "      <td>0.727263</td>\n",
       "    </tr>\n",
       "    <tr>\n",
       "      <th>Zambia</th>\n",
       "      <td>0.163263</td>\n",
       "      <td>9.677793</td>\n",
       "      <td>5.095370</td>\n",
       "      <td>1.465212e+07</td>\n",
       "      <td>44.256498</td>\n",
       "      <td>4.685380</td>\n",
       "      <td>8.033100</td>\n",
       "      <td>0.745987</td>\n",
       "      <td>50.415910</td>\n",
       "      <td>0.749263</td>\n",
       "      <td>-0.000556</td>\n",
       "      <td>0.831900</td>\n",
       "      <td>0.682745</td>\n",
       "      <td>0.275567</td>\n",
       "      <td>0.554312</td>\n",
       "    </tr>\n",
       "    <tr>\n",
       "      <th>Zimbabwe</th>\n",
       "      <td>0.156511</td>\n",
       "      <td>7.868335</td>\n",
       "      <td>3.859923</td>\n",
       "      <td>1.466091e+07</td>\n",
       "      <td>12.032467</td>\n",
       "      <td>4.064211</td>\n",
       "      <td>7.582748</td>\n",
       "      <td>0.811693</td>\n",
       "      <td>46.818750</td>\n",
       "      <td>0.564987</td>\n",
       "      <td>-0.076001</td>\n",
       "      <td>0.849916</td>\n",
       "      <td>0.653585</td>\n",
       "      <td>0.214457</td>\n",
       "      <td>0.448324</td>\n",
       "    </tr>\n",
       "  </tbody>\n",
       "</table>\n",
       "<p>138 rows × 15 columns</p>\n",
       "</div>"
      ],
      "text/plain": [
       "             Schizophrenia  Inflation  Fertility_rate    Population  \\\n",
       "Country                                                               \n",
       "Afghanistan       0.165481   4.527821        5.146507  3.129194e+07   \n",
       "Albania           0.199833   1.713365        1.794707  2.903061e+06   \n",
       "Algeria           0.197471   8.200652        2.867678  3.859009e+07   \n",
       "Angola            0.171298   8.077668        5.960750  2.555838e+07   \n",
       "Argentina         0.197575  24.199908        2.395506  4.189551e+07   \n",
       "...                    ...        ...             ...           ...   \n",
       "Uruguay           0.197493   7.675716        2.125423  3.391753e+06   \n",
       "Uzbekistan        0.185795  16.114275        2.442825  2.961542e+07   \n",
       "Vietnam           0.240101   8.734743        2.012339  9.011188e+07   \n",
       "Zambia            0.163263   9.677793        5.095370  1.465212e+07   \n",
       "Zimbabwe          0.156511   7.868335        3.859923  1.466091e+07   \n",
       "\n",
       "             Political_stability  Life_ladder        GDP  Social_support  \\\n",
       "Country                                                                    \n",
       "Afghanistan             0.000000     3.806614   7.601773        0.517146   \n",
       "Albania                36.299245     4.988791   9.323349        0.723204   \n",
       "Algeria                 6.971714     5.555004   9.344610        0.806064   \n",
       "Angola                 21.828592     4.420299   8.985655        0.737973   \n",
       "Argentina              34.361074     6.406131  10.050591        0.906080   \n",
       "...                          ...          ...        ...             ...   \n",
       "Uruguay                62.725797     6.220598   9.893740        0.896942   \n",
       "Uzbekistan             16.296689     5.721216   8.596716        0.930260   \n",
       "Vietnam                39.295347     5.293268   8.826811        0.826035   \n",
       "Zambia                 44.256498     4.685380   8.033100        0.745987   \n",
       "Zimbabwe               12.032467     4.064211   7.582748        0.811693   \n",
       "\n",
       "             Healthy_life_expectancy   Freedom  Generosity  Corruption  \\\n",
       "Country                                                                  \n",
       "Afghanistan                51.857500  0.544895    0.105552    0.826794   \n",
       "Albania                    68.195501  0.626155   -0.100680    0.859691   \n",
       "Algeria                    65.833332  0.604431   -0.122898    0.689387   \n",
       "Angola                     52.150001  0.455957   -0.090508    0.867018   \n",
       "Argentina                  66.462500  0.753122   -0.157877    0.844038   \n",
       "...                              ...       ...         ...         ...   \n",
       "Uruguay                    67.199999  0.856150   -0.094844    0.580815   \n",
       "Uzbekistan                 62.774545  0.890654    0.046385    0.556308   \n",
       "Vietnam                    64.625000  0.838983   -0.000005    0.769337   \n",
       "Zambia                     50.415910  0.749263   -0.000556    0.831900   \n",
       "Zimbabwe                   46.818750  0.564987   -0.076001    0.849916   \n",
       "\n",
       "             Positive_affect  Negative_affect  Confidence_in_government  \n",
       "Country                                                                  \n",
       "Afghanistan         0.497312         0.301283                  0.400442  \n",
       "Albania             0.555569         0.303256                  0.432327  \n",
       "Algeria             0.563510         0.264745                  0.485063  \n",
       "Angola              0.625734         0.351173                  0.397389  \n",
       "Argentina           0.750714         0.273187                  0.400587  \n",
       "...                      ...              ...                       ...  \n",
       "Uruguay             0.730869         0.263640                  0.579989  \n",
       "Uzbekistan          0.692250         0.147519                  0.654851  \n",
       "Vietnam             0.598848         0.214098                  0.727263  \n",
       "Zambia              0.682745         0.275567                  0.554312  \n",
       "Zimbabwe            0.653585         0.214457                  0.448324  \n",
       "\n",
       "[138 rows x 15 columns]"
      ]
     },
     "execution_count": 48,
     "metadata": {},
     "output_type": "execute_result"
    }
   ],
   "source": [
    "# get the average value of all years for each country\n",
    "data_mean = data.groupby(\"Country\").mean()\n",
    "data_mean = data_mean.drop(columns=['Year'])\n",
    "data_mean"
   ]
  },
  {
   "cell_type": "code",
   "execution_count": 49,
   "id": "5093616e",
   "metadata": {},
   "outputs": [
    {
     "data": {
      "text/html": [
       "<div>\n",
       "<style scoped>\n",
       "    .dataframe tbody tr th:only-of-type {\n",
       "        vertical-align: middle;\n",
       "    }\n",
       "\n",
       "    .dataframe tbody tr th {\n",
       "        vertical-align: top;\n",
       "    }\n",
       "\n",
       "    .dataframe thead th {\n",
       "        text-align: right;\n",
       "    }\n",
       "</style>\n",
       "<table border=\"1\" class=\"dataframe\">\n",
       "  <thead>\n",
       "    <tr style=\"text-align: right;\">\n",
       "      <th></th>\n",
       "      <th>Schizophrenia</th>\n",
       "      <th>Inflation</th>\n",
       "      <th>Fertility_rate</th>\n",
       "      <th>Population</th>\n",
       "      <th>Political_stability</th>\n",
       "      <th>Life_ladder</th>\n",
       "      <th>GDP</th>\n",
       "      <th>Social_support</th>\n",
       "      <th>Healthy_life_expectancy</th>\n",
       "      <th>Freedom</th>\n",
       "      <th>Generosity</th>\n",
       "      <th>Corruption</th>\n",
       "      <th>Positive_affect</th>\n",
       "      <th>Negative_affect</th>\n",
       "      <th>Confidence_in_government</th>\n",
       "      <th>GDP_all</th>\n",
       "    </tr>\n",
       "    <tr>\n",
       "      <th>Country</th>\n",
       "      <th></th>\n",
       "      <th></th>\n",
       "      <th></th>\n",
       "      <th></th>\n",
       "      <th></th>\n",
       "      <th></th>\n",
       "      <th></th>\n",
       "      <th></th>\n",
       "      <th></th>\n",
       "      <th></th>\n",
       "      <th></th>\n",
       "      <th></th>\n",
       "      <th></th>\n",
       "      <th></th>\n",
       "      <th></th>\n",
       "      <th></th>\n",
       "    </tr>\n",
       "  </thead>\n",
       "  <tbody>\n",
       "    <tr>\n",
       "      <th>Afghanistan</th>\n",
       "      <td>0.165481</td>\n",
       "      <td>4.527821</td>\n",
       "      <td>5.146507</td>\n",
       "      <td>3.129194e+07</td>\n",
       "      <td>0.000000</td>\n",
       "      <td>3.806614</td>\n",
       "      <td>7.601773</td>\n",
       "      <td>0.517146</td>\n",
       "      <td>51.857500</td>\n",
       "      <td>0.544895</td>\n",
       "      <td>0.105552</td>\n",
       "      <td>0.826794</td>\n",
       "      <td>0.497312</td>\n",
       "      <td>0.301283</td>\n",
       "      <td>0.400442</td>\n",
       "      <td>2.378742e+08</td>\n",
       "    </tr>\n",
       "    <tr>\n",
       "      <th>Albania</th>\n",
       "      <td>0.199833</td>\n",
       "      <td>1.713365</td>\n",
       "      <td>1.794707</td>\n",
       "      <td>2.903061e+06</td>\n",
       "      <td>36.299245</td>\n",
       "      <td>4.988791</td>\n",
       "      <td>9.323349</td>\n",
       "      <td>0.723204</td>\n",
       "      <td>68.195501</td>\n",
       "      <td>0.626155</td>\n",
       "      <td>-0.100680</td>\n",
       "      <td>0.859691</td>\n",
       "      <td>0.555569</td>\n",
       "      <td>0.303256</td>\n",
       "      <td>0.432327</td>\n",
       "      <td>2.706625e+07</td>\n",
       "    </tr>\n",
       "    <tr>\n",
       "      <th>Algeria</th>\n",
       "      <td>0.197471</td>\n",
       "      <td>8.200652</td>\n",
       "      <td>2.867678</td>\n",
       "      <td>3.859009e+07</td>\n",
       "      <td>6.971714</td>\n",
       "      <td>5.555004</td>\n",
       "      <td>9.344610</td>\n",
       "      <td>0.806064</td>\n",
       "      <td>65.833332</td>\n",
       "      <td>0.604431</td>\n",
       "      <td>-0.122898</td>\n",
       "      <td>0.689387</td>\n",
       "      <td>0.563510</td>\n",
       "      <td>0.264745</td>\n",
       "      <td>0.485063</td>\n",
       "      <td>3.606094e+08</td>\n",
       "    </tr>\n",
       "    <tr>\n",
       "      <th>Angola</th>\n",
       "      <td>0.171298</td>\n",
       "      <td>8.077668</td>\n",
       "      <td>5.960750</td>\n",
       "      <td>2.555838e+07</td>\n",
       "      <td>21.828592</td>\n",
       "      <td>4.420299</td>\n",
       "      <td>8.985655</td>\n",
       "      <td>0.737973</td>\n",
       "      <td>52.150001</td>\n",
       "      <td>0.455957</td>\n",
       "      <td>-0.090508</td>\n",
       "      <td>0.867018</td>\n",
       "      <td>0.625734</td>\n",
       "      <td>0.351173</td>\n",
       "      <td>0.397389</td>\n",
       "      <td>2.296588e+08</td>\n",
       "    </tr>\n",
       "    <tr>\n",
       "      <th>Argentina</th>\n",
       "      <td>0.197575</td>\n",
       "      <td>24.199908</td>\n",
       "      <td>2.395506</td>\n",
       "      <td>4.189551e+07</td>\n",
       "      <td>34.361074</td>\n",
       "      <td>6.406131</td>\n",
       "      <td>10.050591</td>\n",
       "      <td>0.906080</td>\n",
       "      <td>66.462500</td>\n",
       "      <td>0.753122</td>\n",
       "      <td>-0.157877</td>\n",
       "      <td>0.844038</td>\n",
       "      <td>0.750714</td>\n",
       "      <td>0.273187</td>\n",
       "      <td>0.400587</td>\n",
       "      <td>4.210746e+08</td>\n",
       "    </tr>\n",
       "    <tr>\n",
       "      <th>...</th>\n",
       "      <td>...</td>\n",
       "      <td>...</td>\n",
       "      <td>...</td>\n",
       "      <td>...</td>\n",
       "      <td>...</td>\n",
       "      <td>...</td>\n",
       "      <td>...</td>\n",
       "      <td>...</td>\n",
       "      <td>...</td>\n",
       "      <td>...</td>\n",
       "      <td>...</td>\n",
       "      <td>...</td>\n",
       "      <td>...</td>\n",
       "      <td>...</td>\n",
       "      <td>...</td>\n",
       "      <td>...</td>\n",
       "    </tr>\n",
       "    <tr>\n",
       "      <th>Uruguay</th>\n",
       "      <td>0.197493</td>\n",
       "      <td>7.675716</td>\n",
       "      <td>2.125423</td>\n",
       "      <td>3.391753e+06</td>\n",
       "      <td>62.725797</td>\n",
       "      <td>6.220598</td>\n",
       "      <td>9.893740</td>\n",
       "      <td>0.896942</td>\n",
       "      <td>67.199999</td>\n",
       "      <td>0.856150</td>\n",
       "      <td>-0.094844</td>\n",
       "      <td>0.580815</td>\n",
       "      <td>0.730869</td>\n",
       "      <td>0.263640</td>\n",
       "      <td>0.579989</td>\n",
       "      <td>3.355712e+07</td>\n",
       "    </tr>\n",
       "    <tr>\n",
       "      <th>Uzbekistan</th>\n",
       "      <td>0.185795</td>\n",
       "      <td>16.114275</td>\n",
       "      <td>2.442825</td>\n",
       "      <td>2.961542e+07</td>\n",
       "      <td>16.296689</td>\n",
       "      <td>5.721216</td>\n",
       "      <td>8.596716</td>\n",
       "      <td>0.930260</td>\n",
       "      <td>62.774545</td>\n",
       "      <td>0.890654</td>\n",
       "      <td>0.046385</td>\n",
       "      <td>0.556308</td>\n",
       "      <td>0.692250</td>\n",
       "      <td>0.147519</td>\n",
       "      <td>0.654851</td>\n",
       "      <td>2.545954e+08</td>\n",
       "    </tr>\n",
       "    <tr>\n",
       "      <th>Vietnam</th>\n",
       "      <td>0.240101</td>\n",
       "      <td>8.734743</td>\n",
       "      <td>2.012339</td>\n",
       "      <td>9.011188e+07</td>\n",
       "      <td>39.295347</td>\n",
       "      <td>5.293268</td>\n",
       "      <td>8.826811</td>\n",
       "      <td>0.826035</td>\n",
       "      <td>64.625000</td>\n",
       "      <td>0.838983</td>\n",
       "      <td>-0.000005</td>\n",
       "      <td>0.769337</td>\n",
       "      <td>0.598848</td>\n",
       "      <td>0.214098</td>\n",
       "      <td>0.727263</td>\n",
       "      <td>7.954005e+08</td>\n",
       "    </tr>\n",
       "    <tr>\n",
       "      <th>Zambia</th>\n",
       "      <td>0.163263</td>\n",
       "      <td>9.677793</td>\n",
       "      <td>5.095370</td>\n",
       "      <td>1.465212e+07</td>\n",
       "      <td>44.256498</td>\n",
       "      <td>4.685380</td>\n",
       "      <td>8.033100</td>\n",
       "      <td>0.745987</td>\n",
       "      <td>50.415910</td>\n",
       "      <td>0.749263</td>\n",
       "      <td>-0.000556</td>\n",
       "      <td>0.831900</td>\n",
       "      <td>0.682745</td>\n",
       "      <td>0.275567</td>\n",
       "      <td>0.554312</td>\n",
       "      <td>1.177020e+08</td>\n",
       "    </tr>\n",
       "    <tr>\n",
       "      <th>Zimbabwe</th>\n",
       "      <td>0.156511</td>\n",
       "      <td>7.868335</td>\n",
       "      <td>3.859923</td>\n",
       "      <td>1.466091e+07</td>\n",
       "      <td>12.032467</td>\n",
       "      <td>4.064211</td>\n",
       "      <td>7.582748</td>\n",
       "      <td>0.811693</td>\n",
       "      <td>46.818750</td>\n",
       "      <td>0.564987</td>\n",
       "      <td>-0.076001</td>\n",
       "      <td>0.849916</td>\n",
       "      <td>0.653585</td>\n",
       "      <td>0.214457</td>\n",
       "      <td>0.448324</td>\n",
       "      <td>1.111700e+08</td>\n",
       "    </tr>\n",
       "  </tbody>\n",
       "</table>\n",
       "<p>138 rows × 16 columns</p>\n",
       "</div>"
      ],
      "text/plain": [
       "             Schizophrenia  Inflation  Fertility_rate    Population  \\\n",
       "Country                                                               \n",
       "Afghanistan       0.165481   4.527821        5.146507  3.129194e+07   \n",
       "Albania           0.199833   1.713365        1.794707  2.903061e+06   \n",
       "Algeria           0.197471   8.200652        2.867678  3.859009e+07   \n",
       "Angola            0.171298   8.077668        5.960750  2.555838e+07   \n",
       "Argentina         0.197575  24.199908        2.395506  4.189551e+07   \n",
       "...                    ...        ...             ...           ...   \n",
       "Uruguay           0.197493   7.675716        2.125423  3.391753e+06   \n",
       "Uzbekistan        0.185795  16.114275        2.442825  2.961542e+07   \n",
       "Vietnam           0.240101   8.734743        2.012339  9.011188e+07   \n",
       "Zambia            0.163263   9.677793        5.095370  1.465212e+07   \n",
       "Zimbabwe          0.156511   7.868335        3.859923  1.466091e+07   \n",
       "\n",
       "             Political_stability  Life_ladder        GDP  Social_support  \\\n",
       "Country                                                                    \n",
       "Afghanistan             0.000000     3.806614   7.601773        0.517146   \n",
       "Albania                36.299245     4.988791   9.323349        0.723204   \n",
       "Algeria                 6.971714     5.555004   9.344610        0.806064   \n",
       "Angola                 21.828592     4.420299   8.985655        0.737973   \n",
       "Argentina              34.361074     6.406131  10.050591        0.906080   \n",
       "...                          ...          ...        ...             ...   \n",
       "Uruguay                62.725797     6.220598   9.893740        0.896942   \n",
       "Uzbekistan             16.296689     5.721216   8.596716        0.930260   \n",
       "Vietnam                39.295347     5.293268   8.826811        0.826035   \n",
       "Zambia                 44.256498     4.685380   8.033100        0.745987   \n",
       "Zimbabwe               12.032467     4.064211   7.582748        0.811693   \n",
       "\n",
       "             Healthy_life_expectancy   Freedom  Generosity  Corruption  \\\n",
       "Country                                                                  \n",
       "Afghanistan                51.857500  0.544895    0.105552    0.826794   \n",
       "Albania                    68.195501  0.626155   -0.100680    0.859691   \n",
       "Algeria                    65.833332  0.604431   -0.122898    0.689387   \n",
       "Angola                     52.150001  0.455957   -0.090508    0.867018   \n",
       "Argentina                  66.462500  0.753122   -0.157877    0.844038   \n",
       "...                              ...       ...         ...         ...   \n",
       "Uruguay                    67.199999  0.856150   -0.094844    0.580815   \n",
       "Uzbekistan                 62.774545  0.890654    0.046385    0.556308   \n",
       "Vietnam                    64.625000  0.838983   -0.000005    0.769337   \n",
       "Zambia                     50.415910  0.749263   -0.000556    0.831900   \n",
       "Zimbabwe                   46.818750  0.564987   -0.076001    0.849916   \n",
       "\n",
       "             Positive_affect  Negative_affect  Confidence_in_government  \\\n",
       "Country                                                                   \n",
       "Afghanistan         0.497312         0.301283                  0.400442   \n",
       "Albania             0.555569         0.303256                  0.432327   \n",
       "Algeria             0.563510         0.264745                  0.485063   \n",
       "Angola              0.625734         0.351173                  0.397389   \n",
       "Argentina           0.750714         0.273187                  0.400587   \n",
       "...                      ...              ...                       ...   \n",
       "Uruguay             0.730869         0.263640                  0.579989   \n",
       "Uzbekistan          0.692250         0.147519                  0.654851   \n",
       "Vietnam             0.598848         0.214098                  0.727263   \n",
       "Zambia              0.682745         0.275567                  0.554312   \n",
       "Zimbabwe            0.653585         0.214457                  0.448324   \n",
       "\n",
       "                  GDP_all  \n",
       "Country                    \n",
       "Afghanistan  2.378742e+08  \n",
       "Albania      2.706625e+07  \n",
       "Algeria      3.606094e+08  \n",
       "Angola       2.296588e+08  \n",
       "Argentina    4.210746e+08  \n",
       "...                   ...  \n",
       "Uruguay      3.355712e+07  \n",
       "Uzbekistan   2.545954e+08  \n",
       "Vietnam      7.954005e+08  \n",
       "Zambia       1.177020e+08  \n",
       "Zimbabwe     1.111700e+08  \n",
       "\n",
       "[138 rows x 16 columns]"
      ]
     },
     "execution_count": 49,
     "metadata": {},
     "output_type": "execute_result"
    }
   ],
   "source": [
    "# create new feature \"GDP_all\"\n",
    "data = data_mean\n",
    "data['GDP_all'] = data['GDP'] * data['Population']\n",
    "data"
   ]
  },
  {
   "cell_type": "code",
   "execution_count": 50,
   "id": "d524df09",
   "metadata": {},
   "outputs": [
    {
     "data": {
      "text/plain": [
       "<AxesSubplot:ylabel='Frequency'>"
      ]
     },
     "execution_count": 50,
     "metadata": {},
     "output_type": "execute_result"
    },
    {
     "data": {
      "image/png": "[encoded data removed]",
      "text/plain": [
       "<Figure size 432x288 with 1 Axes>"
      ]
     },
     "metadata": {
      "needs_background": "light"
     },
     "output_type": "display_data"
    }
   ],
   "source": [
    "# check data distribution of all columns\n",
    "data['Schizophrenia'].plot.hist(rot=45, figsize = (6, 4))"
   ]
  },
  {
   "cell_type": "code",
   "execution_count": 51,
   "id": "549508f0",
   "metadata": {},
   "outputs": [
    {
     "data": {
      "text/plain": [
       "<AxesSubplot:ylabel='Frequency'>"
      ]
     },
     "execution_count": 51,
     "metadata": {},
     "output_type": "execute_result"
    },
    {
     "data": {
      "image/png": "[encoded data removed]",
      "text/plain": [
       "<Figure size 432x288 with 1 Axes>"
      ]
     },
     "metadata": {
      "needs_background": "light"
     },
     "output_type": "display_data"
    }
   ],
   "source": [
    "data['Inflation'].plot.hist(rot=45, figsize = (6, 4))"
   ]
  },
  {
   "cell_type": "code",
   "execution_count": 52,
   "id": "eebbabf3",
   "metadata": {},
   "outputs": [
    {
     "data": {
      "text/plain": [
       "<AxesSubplot:ylabel='Frequency'>"
      ]
     },
     "execution_count": 52,
     "metadata": {},
     "output_type": "execute_result"
    },
    {
     "data": {
      "image/png": "[encoded data removed]",
      "text/plain": [
       "<Figure size 432x288 with 1 Axes>"
      ]
     },
     "metadata": {
      "needs_background": "light"
     },
     "output_type": "display_data"
    }
   ],
   "source": [
    "data['Fertility_rate'].plot.hist(rot=45, figsize = (6, 4))"
   ]
  },
  {
   "cell_type": "code",
   "execution_count": 53,
   "id": "2edb7e69",
   "metadata": {},
   "outputs": [
    {
     "data": {
      "text/plain": [
       "<AxesSubplot:ylabel='Frequency'>"
      ]
     },
     "execution_count": 53,
     "metadata": {},
     "output_type": "execute_result"
    },
    {
     "data": {
      "image/png": "[encoded data removed]",
      "text/plain": [
       "<Figure size 432x288 with 1 Axes>"
      ]
     },
     "metadata": {
      "needs_background": "light"
     },
     "output_type": "display_data"
    }
   ],
   "source": [
    "data['Population'].plot.hist(rot=45, figsize = (6, 4))  "
   ]
  },
  {
   "cell_type": "code",
   "execution_count": 54,
   "id": "1ee9cea6",
   "metadata": {},
   "outputs": [
    {
     "data": {
      "text/plain": [
       "<AxesSubplot:ylabel='Frequency'>"
      ]
     },
     "execution_count": 54,
     "metadata": {},
     "output_type": "execute_result"
    },
    {
     "data": {
      "image/png": "[encoded data removed]",
      "text/plain": [
       "<Figure size 432x288 with 1 Axes>"
      ]
     },
     "metadata": {
      "needs_background": "light"
     },
     "output_type": "display_data"
    }
   ],
   "source": [
    "data['Political_stability'].plot.hist(rot=45, figsize = (6, 4))"
   ]
  },
  {
   "cell_type": "code",
   "execution_count": 55,
   "id": "8f1d41a5",
   "metadata": {},
   "outputs": [
    {
     "data": {
      "text/plain": [
       "<AxesSubplot:ylabel='Frequency'>"
      ]
     },
     "execution_count": 55,
     "metadata": {},
     "output_type": "execute_result"
    },
    {
     "data": {
      "image/png": "[encoded data removed]",
      "text/plain": [
       "<Figure size 432x288 with 1 Axes>"
      ]
     },
     "metadata": {
      "needs_background": "light"
     },
     "output_type": "display_data"
    }
   ],
   "source": [
    "data['Life_ladder'].plot.hist(rot=45, figsize = (6, 4))"
   ]
  },
  {
   "cell_type": "code",
   "execution_count": 56,
   "id": "f02973e7",
   "metadata": {},
   "outputs": [
    {
     "data": {
      "text/plain": [
       "<AxesSubplot:ylabel='Frequency'>"
      ]
     },
     "execution_count": 56,
     "metadata": {},
     "output_type": "execute_result"
    },
    {
     "data": {
      "image/png": "[encoded data removed]",
      "text/plain": [
       "<Figure size 432x288 with 1 Axes>"
      ]
     },
     "metadata": {
      "needs_background": "light"
     },
     "output_type": "display_data"
    }
   ],
   "source": [
    "data['GDP'].plot.hist(rot=45, figsize = (6, 4))"
   ]
  },
  {
   "cell_type": "code",
   "execution_count": 57,
   "id": "3a25f88f",
   "metadata": {},
   "outputs": [
    {
     "data": {
      "text/plain": [
       "<AxesSubplot:ylabel='Frequency'>"
      ]
     },
     "execution_count": 57,
     "metadata": {},
     "output_type": "execute_result"
    },
    {
     "data": {
      "image/png": "[encoded data removed]",
      "text/plain": [
       "<Figure size 432x288 with 1 Axes>"
      ]
     },
     "metadata": {
      "needs_background": "light"
     },
     "output_type": "display_data"
    }
   ],
   "source": [
    "data['Social_support'].plot.hist(rot=45, figsize = (6, 4))"
   ]
  },
  {
   "cell_type": "code",
   "execution_count": 58,
   "id": "02ea260f",
   "metadata": {},
   "outputs": [],
   "source": [
    "# perfomr data normalization\n",
    "data_norm = (data - data.min()) / (data.max() - data.min())\n",
    "data_norm\n",
    "data = data_norm"
   ]
  },
  {
   "cell_type": "code",
   "execution_count": 59,
   "id": "97586983",
   "metadata": {},
   "outputs": [],
   "source": [
    "data = spark.createDataFrame(data) "
   ]
  },
  {
   "cell_type": "code",
   "execution_count": 60,
   "id": "63fd21ee",
   "metadata": {},
   "outputs": [
    {
     "name": "stdout",
     "output_type": "stream",
     "text": [
      "root\n",
      " |-- features: vector (nullable = true)\n",
      " |-- Schizophrenia: double (nullable = true)\n",
      "\n"
     ]
    }
   ],
   "source": [
    "# put all features in a feature vector of lm\n",
    "from pyspark.ml.linalg import Vectors\n",
    "from pyspark.ml.feature import VectorAssembler\n",
    "assembler = VectorAssembler(inputCols=['Inflation','Fertility_rate','Population','Political_stability','Life_ladder','GDP','Social_support','Healthy_life_expectancy','Freedom','Generosity','Corruption','Positive_affect','Negative_affect','Confidence_in_government','GDP_all'],\n",
    "                           outputCol=\"features\")\n",
    "data_assmbled = assembler.transform(data).select('features','Schizophrenia')\n",
    "data_assmbled.printSchema()"
   ]
  },
  {
   "cell_type": "code",
   "execution_count": 61,
   "id": "813ea8dd",
   "metadata": {},
   "outputs": [
    {
     "name": "stderr",
     "output_type": "stream",
     "text": [
      "23/10/08 04:00:30 WARN Instrumentation: [b94f69e5] regParam is zero, which might cause numerical instability and overfitting.\n",
      "23/10/08 04:00:31 WARN InstanceBuilder$NativeBLAS: Failed to load implementation from:dev.ludovic.netlib.blas.JNIBLAS\n",
      "23/10/08 04:00:31 WARN InstanceBuilder$NativeBLAS: Failed to load implementation from:dev.ludovic.netlib.blas.ForeignLinkerBLAS\n",
      "23/10/08 04:00:31 WARN InstanceBuilder$NativeLAPACK: Failed to load implementation from:dev.ludovic.netlib.lapack.JNILAPACK\n"
     ]
    },
    {
     "data": {
      "text/plain": [
       "0.7822630600817361"
      ]
     },
     "execution_count": 61,
     "metadata": {},
     "output_type": "execute_result"
    }
   ],
   "source": [
    "# get r2 value from lm\n",
    "from pyspark.ml.regression import LinearRegression\n",
    "lr = LinearRegression(labelCol='Schizophrenia')\n",
    "lrm = lr.fit(data_assmbled)\n",
    "r2 = lrm.evaluate(data_assmbled).r2\n",
    "r2"
   ]
  },
  {
   "cell_type": "code",
   "execution_count": 62,
   "id": "e02e7331",
   "metadata": {},
   "outputs": [
    {
     "data": {
      "text/plain": [
       "0.7554921248458839"
      ]
     },
     "execution_count": 62,
     "metadata": {},
     "output_type": "execute_result"
    }
   ],
   "source": [
    "# calculate adjusted r2 \n",
    "data_no = data_assmbled.count()\n",
    "feature_no = len(lrm.coefficients)\n",
    "adj_r2 = 1 - (1 - r2) * ((data_no - 1) / (data_no - feature_no - 1))\n",
    "adj_r2"
   ]
  },
  {
   "cell_type": "code",
   "execution_count": 63,
   "id": "20f0dfcc",
   "metadata": {},
   "outputs": [
    {
     "data": {
      "text/plain": [
       "[(-0.17171354441421052, 'Inflation'),\n",
       " (-0.04829094003865403, 'Fertility_rate'),\n",
       " (-3.2802711442117767, 'Population'),\n",
       " (0.08428324839940686, 'Political_stability'),\n",
       " (0.07814205502932038, 'Life_ladder'),\n",
       " (0.13822294784073133, 'GDP'),\n",
       " (-0.050049955857019636, 'Social_support'),\n",
       " (0.3107872056375626, 'Healthy_life_expectancy'),\n",
       " (-0.06463198399497061, 'Freedom'),\n",
       " (0.32429828713076797, 'Generosity'),\n",
       " (-0.10875958812812943, 'Corruption'),\n",
       " (-0.06710804379946497, 'Positive_affect'),\n",
       " (0.00885285378417153, 'Negative_affect'),\n",
       " (0.030491982910757748, 'Confidence_in_government'),\n",
       " (3.9743467631458267, 'GDP_all')]"
      ]
     },
     "execution_count": 63,
     "metadata": {},
     "output_type": "execute_result"
    }
   ],
   "source": [
    "# get the coef for all features\n",
    "coef = lrm.coefficients\n",
    "features = [x for x in data.columns if x != 'Schizophrenia']\n",
    "feature_coef = list(zip(coef, features))\n",
    "feature_coef"
   ]
  },
  {
   "cell_type": "code",
   "execution_count": 64,
   "id": "49f67c7f",
   "metadata": {},
   "outputs": [
    {
     "name": "stderr",
     "output_type": "stream",
     "text": [
      "23/10/08 04:00:32 WARN Instrumentation: [186e1456] regParam is zero, which might cause numerical instability and overfitting.\n"
     ]
    },
    {
     "data": {
      "text/plain": [
       "0.7822238868838524"
      ]
     },
     "execution_count": 64,
     "metadata": {},
     "output_type": "execute_result"
    }
   ],
   "source": [
    "assembler = VectorAssembler(inputCols=['Inflation','Fertility_rate','Population','Political_stability','Life_ladder','GDP','Social_support','Healthy_life_expectancy','Freedom','Generosity','Corruption','Positive_affect','Confidence_in_government','GDP_all'],\n",
    "                           outputCol=\"features\")\n",
    "data_assmbled2 = assembler.transform(data).select('features','Schizophrenia')\n",
    "lrm2 = lr.fit(data_assmbled2)\n",
    "r2 = lrm2.evaluate(data_assmbled2).r2\n",
    "r2"
   ]
  },
  {
   "cell_type": "code",
   "execution_count": 65,
   "id": "6ed34bd4",
   "metadata": {},
   "outputs": [
    {
     "data": {
      "text/plain": [
       "0.7574363618137218"
      ]
     },
     "execution_count": 65,
     "metadata": {},
     "output_type": "execute_result"
    }
   ],
   "source": [
    "data_no = data_assmbled2.count()\n",
    "feature_no = len(lrm2.coefficients)\n",
    "adj_r2 = 1 - (1 - r2) * ((data_no - 1) / (data_no - feature_no - 1))\n",
    "adj_r2"
   ]
  },
  {
   "cell_type": "code",
   "execution_count": 66,
   "id": "1bebff74",
   "metadata": {},
   "outputs": [
    {
     "data": {
      "text/plain": [
       "[(-0.171274277046327, 'Inflation'),\n",
       " (-0.04772378279804794, 'Fertility_rate'),\n",
       " (-3.2753299170807146, 'Population'),\n",
       " (0.0831469643979829, 'Political_stability'),\n",
       " (0.078503644263033, 'Life_ladder'),\n",
       " (0.14123377684845875, 'GDP'),\n",
       " (-0.053887565178019806, 'Social_support'),\n",
       " (0.3110960034875576, 'Healthy_life_expectancy'),\n",
       " (-0.06440745657817479, 'Freedom'),\n",
       " (0.3248216561924512, 'Generosity'),\n",
       " (-0.10641326025919136, 'Corruption'),\n",
       " (-0.06809484775555372, 'Positive_affect'),\n",
       " (0.02960855258477843, 'Confidence_in_government'),\n",
       " (3.96697011275427, 'GDP_all')]"
      ]
     },
     "execution_count": 66,
     "metadata": {},
     "output_type": "execute_result"
    }
   ],
   "source": [
    "coef = lrm2.coefficients\n",
    "features = [x for x in data.columns if x not in ['Schizophrenia','Negative_affect']]\n",
    "feature_coef = list(zip(coef, features))\n",
    "feature_coef"
   ]
  },
  {
   "cell_type": "code",
   "execution_count": 67,
   "id": "3a37b134",
   "metadata": {},
   "outputs": [
    {
     "name": "stderr",
     "output_type": "stream",
     "text": [
      "23/10/08 04:00:33 WARN Instrumentation: [c7b56c53] regParam is zero, which might cause numerical instability and overfitting.\n"
     ]
    },
    {
     "data": {
      "text/plain": [
       "0.781828273532239"
      ]
     },
     "execution_count": 67,
     "metadata": {},
     "output_type": "execute_result"
    }
   ],
   "source": [
    "assembler = VectorAssembler(inputCols=['Inflation','Fertility_rate','Population','Political_stability','Life_ladder','GDP','Social_support','Healthy_life_expectancy','Freedom','Generosity','Corruption','Positive_affect','GDP_all'],\n",
    "                           outputCol=\"features\")\n",
    "data_assmbled3 = assembler.transform(data).select('features','Schizophrenia')\n",
    "lrm3 = lr.fit(data_assmbled3)\n",
    "r3 = lrm3.evaluate(data_assmbled3).r2\n",
    "r3"
   ]
  },
  {
   "cell_type": "code",
   "execution_count": 68,
   "id": "1733b1c7",
   "metadata": {},
   "outputs": [
    {
     "data": {
      "text/plain": [
       "0.7589554312412641"
      ]
     },
     "execution_count": 68,
     "metadata": {},
     "output_type": "execute_result"
    }
   ],
   "source": [
    "data_no = data_assmbled3.count()\n",
    "feature_no = len(lrm3.coefficients)\n",
    "adj_r3 = 1 - (1 - r3) * ((data_no - 1) / (data_no - feature_no - 1))\n",
    "adj_r3"
   ]
  },
  {
   "cell_type": "code",
   "execution_count": 69,
   "id": "c0340b08",
   "metadata": {},
   "outputs": [
    {
     "data": {
      "text/plain": [
       "[(-0.16669330332668458, 'Inflation'),\n",
       " (-0.049883245794215415, 'Fertility_rate'),\n",
       " (-3.1880831746627365, 'Population'),\n",
       " (0.0835914966632481, 'Political_stability'),\n",
       " (0.06788711171402827, 'Life_ladder'),\n",
       " (0.13814451518238594, 'GDP'),\n",
       " (-0.05437211417687092, 'Social_support'),\n",
       " (0.30876170507573925, 'Healthy_life_expectancy'),\n",
       " (-0.05011567046026055, 'Freedom'),\n",
       " (0.32924264415355897, 'Generosity'),\n",
       " (-0.11847490810658602, 'Corruption'),\n",
       " (-0.06978067219197798, 'Positive_affect'),\n",
       " (3.8786812433331335, 'GDP_all')]"
      ]
     },
     "execution_count": 69,
     "metadata": {},
     "output_type": "execute_result"
    }
   ],
   "source": [
    "coef = lrm3.coefficients\n",
    "features = [x for x in data.columns if x not in ['Schizophrenia','Negative_affect','Confidence_in_government']]\n",
    "feature_coef = list(zip(coef, features))\n",
    "feature_coef"
   ]
  },
  {
   "cell_type": "code",
   "execution_count": 70,
   "id": "141277f5",
   "metadata": {},
   "outputs": [
    {
     "name": "stderr",
     "output_type": "stream",
     "text": [
      "23/10/08 04:00:34 WARN Instrumentation: [586a84ef] regParam is zero, which might cause numerical instability and overfitting.\n"
     ]
    },
    {
     "data": {
      "text/plain": [
       "0.7809665778379054"
      ]
     },
     "execution_count": 70,
     "metadata": {},
     "output_type": "execute_result"
    }
   ],
   "source": [
    "assembler = VectorAssembler(inputCols=['Inflation', 'Population','Political_stability','Life_ladder','GDP','Social_support','Healthy_life_expectancy','Freedom','Generosity','Corruption','Positive_affect','GDP_all'],\n",
    "                           outputCol=\"features\")\n",
    "data_assmbled4 = assembler.transform(data).select('features','Schizophrenia')\n",
    "lrm4 = lr.fit(data_assmbled4)\n",
    "r4 = lrm4.evaluate(data_assmbled4).r2\n",
    "r4"
   ]
  },
  {
   "cell_type": "code",
   "execution_count": 71,
   "id": "807fc850",
   "metadata": {},
   "outputs": [
    {
     "data": {
      "text/plain": [
       "0.7599393693103442"
      ]
     },
     "execution_count": 71,
     "metadata": {},
     "output_type": "execute_result"
    }
   ],
   "source": [
    "data_no = data_assmbled4.count()\n",
    "feature_no = len(lrm4.coefficients)\n",
    "adj_r4 = 1 - (1 - r4) * ((data_no - 1) / (data_no - feature_no - 1))\n",
    "adj_r4"
   ]
  },
  {
   "cell_type": "code",
   "execution_count": 72,
   "id": "a23dabea",
   "metadata": {},
   "outputs": [
    {
     "data": {
      "text/plain": [
       "[(-0.16577421995567374, 'Inflation'),\n",
       " (-3.1769817591555007, 'Population'),\n",
       " (0.08794801397435437, 'Political_stability'),\n",
       " (0.06736823276471479, 'Life_ladder'),\n",
       " (0.15630207704040613, 'GDP'),\n",
       " (-0.04776803148492167, 'Social_support'),\n",
       " (0.33235345774634045, 'Healthy_life_expectancy'),\n",
       " (-0.04455809510292645, 'Freedom'),\n",
       " (0.3287210935079053, 'Generosity'),\n",
       " (-0.10983723851259847, 'Corruption'),\n",
       " (-0.07939359608467504, 'Positive_affect'),\n",
       " (3.8772734578556514, 'GDP_all')]"
      ]
     },
     "execution_count": 72,
     "metadata": {},
     "output_type": "execute_result"
    }
   ],
   "source": [
    "coef = lrm4.coefficients\n",
    "features = [x for x in data.columns if x not in ['Schizophrenia','Negative_affect','Confidence_in_government','Fertility_rate']]\n",
    "feature_coef = list(zip(coef, features))\n",
    "feature_coef"
   ]
  },
  {
   "cell_type": "code",
   "execution_count": 73,
   "id": "8f9a114f",
   "metadata": {},
   "outputs": [
    {
     "name": "stderr",
     "output_type": "stream",
     "text": [
      "23/10/08 04:00:35 WARN Instrumentation: [abb5aa48] regParam is zero, which might cause numerical instability and overfitting.\n"
     ]
    },
    {
     "data": {
      "text/plain": [
       "0.7795296986283151"
      ]
     },
     "execution_count": 73,
     "metadata": {},
     "output_type": "execute_result"
    }
   ],
   "source": [
    "assembler = VectorAssembler(inputCols=['Inflation', 'Population','Political_stability','Life_ladder','GDP','Healthy_life_expectancy','Generosity','Corruption','Positive_affect','GDP_all'],\n",
    "                           outputCol=\"features\")\n",
    "data_assmbled5 = assembler.transform(data).select('features','Schizophrenia')\n",
    "lrm5 = lr.fit(data_assmbled5)\n",
    "r5 = lrm5.evaluate(data_assmbled5).r2\n",
    "r5"
   ]
  },
  {
   "cell_type": "code",
   "execution_count": 74,
   "id": "edcbd136",
   "metadata": {},
   "outputs": [
    {
     "data": {
      "text/plain": [
       "0.7621698323785762"
      ]
     },
     "execution_count": 74,
     "metadata": {},
     "output_type": "execute_result"
    }
   ],
   "source": [
    "data_no = data_assmbled5.count()\n",
    "feature_no = len(lrm5.coefficients)\n",
    "adj_r5 = 1 - (1 - r5) * ((data_no - 1) / (data_no - feature_no - 1))\n",
    "adj_r5"
   ]
  },
  {
   "cell_type": "code",
   "execution_count": 75,
   "id": "784d7090",
   "metadata": {},
   "outputs": [
    {
     "data": {
      "text/plain": [
       "[(-0.16423094145872955, 'Inflation'),\n",
       " (-3.1911848140360553, 'Population'),\n",
       " (0.07472226210923427, 'Political_stability'),\n",
       " (0.05080715251304373, 'Life_ladder'),\n",
       " (0.15045592798241514, 'GDP'),\n",
       " (0.3219113012577754, 'Healthy_life_expectancy'),\n",
       " (0.32617369503328947, 'Generosity'),\n",
       " (-0.11009986745652293, 'Corruption'),\n",
       " (-0.10557185977700297, 'Positive_affect'),\n",
       " (3.8913912269354807, 'GDP_all')]"
      ]
     },
     "execution_count": 75,
     "metadata": {},
     "output_type": "execute_result"
    }
   ],
   "source": [
    "coef = lrm5.coefficients\n",
    "features = [x for x in data.columns if x not in ['Schizophrenia','Social_support','Freedom','Negative_affect','Confidence_in_government','Fertility_rate']]\n",
    "feature_coef = list(zip(coef, features))\n",
    "feature_coef"
   ]
  },
  {
   "cell_type": "code",
   "execution_count": 76,
   "id": "95403df5",
   "metadata": {},
   "outputs": [
    {
     "name": "stderr",
     "output_type": "stream",
     "text": [
      "23/10/08 04:00:36 WARN Instrumentation: [8750b002] regParam is zero, which might cause numerical instability and overfitting.\n"
     ]
    },
    {
     "data": {
      "text/plain": [
       "[(-0.16423094145872955, 'Inflation'),\n",
       " (-3.1911848140360553, 'Population'),\n",
       " (0.07472226210923427, 'Political_stability'),\n",
       " (0.05080715251304373, 'Life_ladder'),\n",
       " (0.15045592798241514, 'GDP'),\n",
       " (0.3219113012577754, 'Healthy_life_expectancy'),\n",
       " (0.32617369503328947, 'Generosity'),\n",
       " (-0.11009986745652293, 'Corruption'),\n",
       " (-0.10557185977700297, 'Positive_affect'),\n",
       " (3.8913912269354807, 'GDP_all')]"
      ]
     },
     "execution_count": 76,
     "metadata": {},
     "output_type": "execute_result"
    }
   ],
   "source": [
    "data_final = data_assmbled5 # take data_assmbled5 as the final data for further analysis\n",
    "lrm = lr.fit(data_final)\n",
    "coef = lrm.coefficients\n",
    "features = [x for x in data.columns if x not in ['Schizophrenia','Social_support','Freedom','Negative_affect','Confidence_in_government','Fertility_rate']]\n",
    "feature_coef = list(zip(coef, features))\n",
    "feature_coef"
   ]
  },
  {
   "cell_type": "code",
   "execution_count": 77,
   "id": "611f829f",
   "metadata": {},
   "outputs": [],
   "source": [
    "# convert the feature/coef list to dataframe\n",
    "from pyspark.sql import Row\n",
    "from pyspark.sql.types import StructType, StructField, FloatType , StringType\n",
    "\n",
    "rows = [Row(coef=float(row[0]), feature=row[1]) for row in feature_coef]\n",
    "schema = StructType([    \n",
    "    StructField(\"coef\", FloatType (), True),\n",
    "    StructField(\"feature\", StringType(), True),\n",
    "])\n",
    "features = spark.createDataFrame(rows, schema=schema)"
   ]
  },
  {
   "cell_type": "code",
   "execution_count": 78,
   "id": "1bb71c2e",
   "metadata": {},
   "outputs": [
    {
     "name": "stdout",
     "output_type": "stream",
     "text": [
      "+-----------+--------------------+\n",
      "|       coef|             feature|\n",
      "+-----------+--------------------+\n",
      "|-0.16423094|           Inflation|\n",
      "| -3.1911848|          Population|\n",
      "|  0.3219113|Healthy_life_expe...|\n",
      "|  0.3261737|          Generosity|\n",
      "|  3.8913913|             GDP_all|\n",
      "+-----------+--------------------+\n",
      "\n"
     ]
    }
   ],
   "source": [
    "topFeatures = features.filter(~col(\"feature\").isin([\"Political_stability\",\"Life_ladder\",\"GDP\",\"Corruption\",\"Positive_affect\"])) \n",
    "topFeatures.show()"
   ]
  },
  {
   "cell_type": "code",
   "execution_count": 79,
   "id": "f6cd97ec",
   "metadata": {},
   "outputs": [],
   "source": [
    "topFeatures_df = topFeatures.toPandas()"
   ]
  },
  {
   "cell_type": "code",
   "execution_count": 80,
   "id": "9c1aa9a8",
   "metadata": {},
   "outputs": [
    {
     "data": {
      "text/plain": [
       "<AxesSubplot:title={'center':'Schizophrenia'}>"
      ]
     },
     "execution_count": 80,
     "metadata": {},
     "output_type": "execute_result"
    },
    {
     "data": {
      "image/png": "[encoded data removed]",
      "text/plain": [
       "<Figure size 432x288 with 1 Axes>"
      ]
     },
     "metadata": {
      "needs_background": "light"
     },
     "output_type": "display_data"
    }
   ],
   "source": [
    "topFeatures_df.plot(x='feature', y='coef', kind='bar', rot = 45, title = 'Schizophrenia', xlabel = '')"
   ]
  },
  {
   "cell_type": "code",
   "execution_count": 81,
   "id": "ebe0a137",
   "metadata": {},
   "outputs": [],
   "source": [
    "happy1 = happy.toPandas()"
   ]
  },
  {
   "cell_type": "code",
   "execution_count": 82,
   "id": "2a3dac9c",
   "metadata": {},
   "outputs": [],
   "source": [
    "for i in range(len(topFeatures_df)):\n",
    "    if topFeatures_df.iloc[i,1] in happy1.columns:\n",
    "        topFeatures_df.loc[i,'happiness'] = 'Happiness Report Indicator'\n",
    "    else:\n",
    "        topFeatures_df.loc[i,'happiness'] = 'Not Happiness Report Indicator'"
   ]
  },
  {
   "cell_type": "code",
   "execution_count": 83,
   "id": "eee56ad5",
   "metadata": {},
   "outputs": [
    {
     "data": {
      "image/png": "[encoded data removed]",
      "text/plain": [
       "<Figure size 432x288 with 1 Axes>"
      ]
     },
     "metadata": {
      "needs_background": "light"
     },
     "output_type": "display_data"
    }
   ],
   "source": [
    "import matplotlib.pyplot as plt\n",
    "\n",
    "colors = {'Happiness Report Indicator':'coral', 'Not Happiness Report Indicator':'teal'}\n",
    "\n",
    "topFeatures_df.plot(x = 'feature', y = 'coef', kind='bar', color = [colors[i] for i in topFeatures_df['happiness']], rot = 45, title = 'Schizophrenia', xlabel = '')\n",
    "labels = topFeatures_df['happiness'].unique()\n",
    "handles = [plt.Rectangle((0,0),1,1, color = colors[i]) for i in labels]\n",
    "plt.legend(handles, labels, fontsize=8)\n",
    "plt.show()"
   ]
  },
  {
   "cell_type": "code",
   "execution_count": null,
   "id": "301ec318",
   "metadata": {},
   "outputs": [],
   "source": []
  }
 ],
 "metadata": {
  "kernelspec": {
   "display_name": "Python 3 (ipykernel)",
   "language": "python",
   "name": "python3"
  },
  "language_info": {
   "codemirror_mode": {
    "name": "ipython",
    "version": 3
   },
   "file_extension": ".py",
   "mimetype": "text/x-python",
   "name": "python",
   "nbconvert_exporter": "python",
   "pygments_lexer": "ipython3",
   "version": "3.10.12"
  }
 },
 "nbformat": 4,
 "nbformat_minor": 5
}
